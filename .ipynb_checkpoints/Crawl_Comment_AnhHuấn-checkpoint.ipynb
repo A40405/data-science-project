{
 "cells": [
  {
   "cell_type": "code",
   "execution_count": 4,
   "metadata": {
    "id": "bS8Vx7AbxS6u"
   },
   "outputs": [
    {
     "name": "stdout",
     "output_type": "stream",
     "text": [
      "\n"
     ]
    }
   ],
   "source": [
    "'''\n",
    "!pip install requests\n",
    "!pip install pandas\n",
    "!pip install selenium\n",
    "!pip install webdriver_manager\n",
    "df = pd.DataFrame({'id':[], 'title':[], 'content':[], 'status':[], 'thank_count':[], 'customer_id':[],\n",
    "       'comment_count':[], 'rating':[], 'suggestions':[], 'spid':[], 'is_photo':[], 'seller_name':[],\n",
    "       'product_id':[], 'timeline':[], 'purchased':[]})\n",
    "df.to_csv('./test.csv', encoding = 'utf-8-sig', index=False)\n",
    "df = pd.DataFrame({'id':[], 'title':[], 'content':[], 'status':[], 'thank_count':[], 'score':[], 'new_score':[],\n",
    "       'customer_id':[], 'comment_count':[], 'rating':[], 'images':[], 'thanked':[],\n",
    "       'created_at':[], 'created_by':[], 'suggestions':[], 'attributes':[],\n",
    "       'product_attributes':[], 'spid':[], 'is_photo':[], 'seller':[], 'product_id':[],\n",
    "       'timeline':[], 'comments':[], 'vote_attributes':[]})\n",
    "#df['seller'] = df['seller'].get('name')\n",
    "#df['timeline'] = df['timeline'].get('content')\n",
    "#df['purchased'] = df['created_by'].get('purchased')\n",
    "df.to_csv('./test.csv', encoding = 'utf-8-sig', index=False)\n",
    "def comment_parser(json):\n",
    "    d = []\n",
    "    d.append(json.get('id')) # mã đánh giá \n",
    "    d.append(json.get('title')) # đánh giá chung \n",
    "    d.append(json.get('content')) # đánh giá chi tiết \n",
    "    d.append(json.get('status')) # đã kiểm duyệt \n",
    "    d.append(json.get('thank_count')) # số like cmt \n",
    "    d.append(json.get('customer_id')) # mã khách hàng \n",
    "    d.append(json.get('comment_count')) # số cmt đánh giá \n",
    "    d.append(json.get('rating')) # vote sao \n",
    "    d.append(json.get('suggestions') if len(json.get('suggestions'))>0 else None) # đánh giá cơ bản \n",
    "    # d.append(json.get('attributes') if len(json.get('attributes'))>0 else None) # mua tại cửa hàng nào\n",
    "    d.append(json.get('spid')) # mã sản phẩm của cửa hàng \n",
    "    d.append(json.get('is_photo')) # cmt có ảnh không \n",
    "    d.append(json.get('seller').get('name') if type(json.get('seller')) is dict else None) # tên cửa hàng\n",
    "    d.append(json.get('product_id')) # mã sản phẩm \n",
    "    d.append(json.get('timeline').get('content') if type(json.get('timeline')) is dict else None) # thời gian đánh giá\n",
    "    # d.append(json.get('comments')) # cmt trả lời đánh giá \n",
    "    d.append(json.get('created_by').get('purchased')if type(json.get('created_by')) is dict else None) # khách mua hay chưa \n",
    "    return d\n",
    "'''\n",
    "print()"
   ]
  },
  {
   "cell_type": "code",
   "execution_count": 5,
   "metadata": {},
   "outputs": [],
   "source": [
    "import os\n",
    "import ast\n",
    "import time\n",
    "import sqlite3\n",
    "import requests\n",
    "import pandas as pd\n",
    "import numpy as np\n",
    "import concurrent.futures\n",
    "from threading import Thread\n",
    "import multiprocessing\n",
    "import threading\n",
    "from selenium import webdriver\n",
    "from selenium.webdriver.common.by import By\n",
    "from webdriver_manager.chrome import ChromeDriverManager"
   ]
  },
  {
   "cell_type": "code",
   "execution_count": 6,
   "metadata": {},
   "outputs": [
    {
     "data": {
      "text/plain": [
       "7"
      ]
     },
     "execution_count": 6,
     "metadata": {},
     "output_type": "execute_result"
    }
   ],
   "source": [
    "threading.activeCount()"
   ]
  },
  {
   "cell_type": "code",
   "execution_count": 7,
   "metadata": {},
   "outputs": [
    {
     "data": {
      "text/plain": [
       "8"
      ]
     },
     "execution_count": 7,
     "metadata": {},
     "output_type": "execute_result"
    }
   ],
   "source": [
    "multiprocessing.cpu_count()"
   ]
  },
  {
   "cell_type": "code",
   "execution_count": 8,
   "metadata": {
    "id": "kyuJqFMzxXWD"
   },
   "outputs": [],
   "source": [
    "url = 'https://tiki.vn/api/v2/reviews?limit=5&include=comments,contribute_info,attribute_vote_summary&sort=score%7Cdesc,id%7Cdesc,stars%7Call&page=1&product_id=480040'\n",
    "header = {\n",
    "    'user-agent': 'Mozilla/5.0 (Windows NT 10.0; Win64; x64] AppleWebKit/537.36 (KHTML, like Gecko] Chrome/106.0.0.0 Safari/537.36'\n",
    "}"
   ]
  },
  {
   "cell_type": "code",
   "execution_count": 9,
   "metadata": {},
   "outputs": [],
   "source": [
    "def khoitao():\n",
    "    df = pd.DataFrame({'id':[], 'title':[], 'content':[], 'status':[], 'thank_count':[], 'customer_id':[],\n",
    "       'comment_count':[], 'rating':[], 'suggestions':[], 'spid':[], 'is_photo':[], 'seller_name':[],\n",
    "       'product_id':[], 'timeline':[], 'purchased':[]})\n",
    "    return df"
   ]
  },
  {
   "cell_type": "code",
   "execution_count": 10,
   "metadata": {},
   "outputs": [],
   "source": [
    "def comment_parser(json):\n",
    "    return [json.get('id'), \n",
    "            json.get('title'), \n",
    "            json.get('content'), \n",
    "            json.get('status'), \n",
    "            json.get('thank_count'),\n",
    "            json.get('customer_id'), \n",
    "            json.get('comment_count'), \n",
    "            json.get('rating'), \n",
    "            json.get('suggestions') if len(json.get('suggestions'))>0 else None,\n",
    "            json.get('spid'), \n",
    "            json.get('is_photo'), \n",
    "            json.get('seller').get('name') if type(json.get('seller')) is dict else None,\n",
    "            json.get('product_id'),\n",
    "            json.get('timeline').get('content') if type(json.get('timeline')) is dict else None,\n",
    "            json.get('created_by').get('purchased')if type(json.get('created_by')) is dict else None ]"
   ]
  },
  {
   "cell_type": "code",
   "execution_count": 82,
   "metadata": {},
   "outputs": [
    {
     "data": {
      "text/plain": [
       "2214339"
      ]
     },
     "execution_count": 82,
     "metadata": {},
     "output_type": "execute_result"
    }
   ],
   "source": [
    "array = []\n",
    "request = requests.get(url, headers = header)\n",
    "js = request.json().get('data')\n",
    "crawl(array,js)\n",
    "array[0][0]"
   ]
  },
  {
   "cell_type": "code",
   "execution_count": 11,
   "metadata": {},
   "outputs": [],
   "source": [
    "df = pd.DataFrame({'id':[], 'title':[], 'content':[], 'status':[], 'thank_count':[], 'customer_id':[],\n",
    "       'comment_count':[], 'rating':[], 'suggestions':[], 'spid':[], 'is_photo':[], 'seller_name':[],\n",
    "       'product_id':[], 'timeline':[], 'purchased':[]})\n",
    "df.to_csv('./test.csv', encoding = 'utf-8-sig', index=False)"
   ]
  },
  {
   "cell_type": "code",
   "execution_count": 12,
   "metadata": {},
   "outputs": [],
   "source": [
    "api = 'https://tiki.vn/api/v2/products?limit=100&include=advertisement&aggregations=2&trackity_id=aad96040-dbba-2e10-62e1-52eb44ed5f63&q=%C4%91%E1%BA%AFc+nh%C3%A2n+t%C3%A2m'"
   ]
  },
  {
   "cell_type": "code",
   "execution_count": 13,
   "metadata": {},
   "outputs": [
    {
     "data": {
      "text/plain": [
       "114"
      ]
     },
     "execution_count": 13,
     "metadata": {},
     "output_type": "execute_result"
    }
   ],
   "source": [
    "request = requests.get(api, headers = header)\n",
    "if request.status_code != 200:\n",
    "    print(request.status_code)\n",
    "js = request.json().get('data')\n",
    "crawl_id = pd.DataFrame(js)\n",
    "product_id = crawl_id['id'].unique()\n",
    "len(product_id)"
   ]
  },
  {
   "cell_type": "code",
   "execution_count": null,
   "metadata": {},
   "outputs": [],
   "source": [
    "data_df = np.array([])\n",
    "for i in product_id:\n",
    "    url1 = url.replace('product_id=480040', 'product_id=' + str(i))\n",
    "    reque1 = requests.get(url1, headers = header)\n",
    "    number_of_page = reque1.json().get('paging')['last_page']\n",
    "    for j in range(1,number_of_page+1):\n",
    "        url2 = url1.replace('page=1', 'page=' + str(j))\n",
    "        reque2 = requests.get(url2, headers = header)\n",
    "        requ2 = reque2.json().get('data')\n",
    "        multiprocessing.Process(target=worker, args=(num,queue,))\n",
    "        \n",
    "        df.to_csv('./test.csv',encoding = 'utf-8-sig', mode = 'a', index=False,header = False)"
   ]
  },
  {
   "cell_type": "code",
   "execution_count": 6,
   "metadata": {},
   "outputs": [
    {
     "data": {
      "text/plain": [
       "(3546, 15)"
      ]
     },
     "execution_count": 6,
     "metadata": {},
     "output_type": "execute_result"
    }
   ],
   "source": [
    "df = pd.read_csv('test.csv')\n",
    "df.shape"
   ]
  },
  {
   "cell_type": "code",
   "execution_count": 21,
   "metadata": {},
   "outputs": [
    {
     "data": {
      "text/plain": [
       "(3546, 15)"
      ]
     },
     "execution_count": 21,
     "metadata": {},
     "output_type": "execute_result"
    }
   ],
   "source": [
    "data  = pd.read_csv('test.csv',on_bad_lines='skip')\n",
    "data.shape"
   ]
  },
  {
   "cell_type": "code",
   "execution_count": 22,
   "metadata": {},
   "outputs": [
    {
     "data": {
      "text/plain": [
       "id                  0\n",
       "title               0\n",
       "content          2265\n",
       "status              0\n",
       "thank_count         0\n",
       "customer_id         0\n",
       "comment_count       0\n",
       "rating              0\n",
       "suggestions      2687\n",
       "spid                3\n",
       "is_photo            0\n",
       "seller_name         3\n",
       "product_id          0\n",
       "timeline           58\n",
       "purchased           0\n",
       "dtype: int64"
      ]
     },
     "execution_count": 22,
     "metadata": {},
     "output_type": "execute_result"
    }
   ],
   "source": [
    "data.isnull().sum()"
   ]
  },
  {
   "cell_type": "code",
   "execution_count": null,
   "metadata": {},
   "outputs": [],
   "source": [
    "import ast"
   ]
  },
  {
   "cell_type": "code",
   "execution_count": 66,
   "metadata": {},
   "outputs": [
    {
     "name": "stdout",
     "output_type": "stream",
     "text": [
      "3413    Đã dùng 5 tháng\n",
      "Name: timeline, dtype: object\n"
     ]
    },
    {
     "data": {
      "text/plain": [
       "0"
      ]
     },
     "execution_count": 66,
     "metadata": {},
     "output_type": "execute_result"
    }
   ],
   "source": [
    "a = np.random.randint(len(data.timeline),size=1)\n",
    "print(data.timeline[a])\n",
    "data.timeline.fillna(method='ffill',inplace = True) \n",
    "data.timeline.isnull().sum()"
   ]
  },
  {
   "cell_type": "code",
   "execution_count": 23,
   "metadata": {},
   "outputs": [
    {
     "data": {
      "text/plain": [
       "5    1084\n",
       "4     117\n",
       "3      35\n",
       "1      27\n",
       "2      18\n",
       "Name: rating, dtype: int64"
      ]
     },
     "execution_count": 23,
     "metadata": {},
     "output_type": "execute_result"
    }
   ],
   "source": [
    "data_model = data.loc[(data.content.isnull() == False),[\"content\",\"rating\"]]\n",
    "data_model.rating.value_counts()"
   ]
  },
  {
   "cell_type": "code",
   "execution_count": 68,
   "metadata": {},
   "outputs": [],
   "source": []
  },
  {
   "cell_type": "code",
   "execution_count": 34,
   "metadata": {},
   "outputs": [
    {
     "data": {
      "text/plain": [
       "'Hi How is your and Have a nice weekend'"
      ]
     },
     "execution_count": 34,
     "metadata": {},
     "output_type": "execute_result"
    }
   ],
   "source": [
    "import emoji\n",
    "def give_emoji_free_text(text):\n",
    "    allchars = [str for str in text.encode().decode('utf-8')]\n",
    "    emoji_list = [c for c in allchars if c in emoji.EMOJI_DATA]\n",
    "    clean_text = ' '.join([str for str in text.encode().decode('utf-8').split() if not any(i in str for i in emoji_list)])\n",
    "    return clean_text\n",
    "a = \"Hi 🤔 How is your 🙈 and 😌. Have a nice weekend 💕👭👙\"\n",
    "give_emoji_free_text(a)"
   ]
  },
  {
   "cell_type": "code",
   "execution_count": 35,
   "metadata": {},
   "outputs": [],
   "source": [
    "data_model.content = [give_emoji_free_text(i) for i in data_model.content]\n"
   ]
  },
  {
   "cell_type": "code",
   "execution_count": 33,
   "metadata": {},
   "outputs": [
    {
     "data": {
      "text/html": [
       "<div>\n",
       "<style scoped>\n",
       "    .dataframe tbody tr th:only-of-type {\n",
       "        vertical-align: middle;\n",
       "    }\n",
       "\n",
       "    .dataframe tbody tr th {\n",
       "        vertical-align: top;\n",
       "    }\n",
       "\n",
       "    .dataframe thead th {\n",
       "        text-align: right;\n",
       "    }\n",
       "</style>\n",
       "<table border=\"1\" class=\"dataframe\">\n",
       "  <thead>\n",
       "    <tr style=\"text-align: right;\">\n",
       "      <th></th>\n",
       "      <th>content</th>\n",
       "      <th>rating</th>\n",
       "    </tr>\n",
       "  </thead>\n",
       "  <tbody>\n",
       "    <tr>\n",
       "      <th>0</th>\n",
       "      <td>Mình k ở nhà, nhờ ngừoi nhà nhận hộ thì hộp nh...</td>\n",
       "      <td>2</td>\n",
       "    </tr>\n",
       "    <tr>\n",
       "      <th>1</th>\n",
       "      <td>Sách mới tinh, có màng bọc, giấy ok mà, giao h...</td>\n",
       "      <td>5</td>\n",
       "    </tr>\n",
       "    <tr>\n",
       "      <th>2</th>\n",
       "      <td>Đặt hàng 1/8/2021 Nhận hàng 25/9/2021 Dịch bện...</td>\n",
       "      <td>2</td>\n",
       "    </tr>\n",
       "    <tr>\n",
       "      <th>3</th>\n",
       "      <td>Từ trc đến giờ mình ch bh tin tưởng khi mua ở ...</td>\n",
       "      <td>5</td>\n",
       "    </tr>\n",
       "    <tr>\n",
       "      <th>4</th>\n",
       "      <td>Sách rất tốt, được đóng gói vô cùng cẩn thận. ...</td>\n",
       "      <td>5</td>\n",
       "    </tr>\n",
       "    <tr>\n",
       "      <th>...</th>\n",
       "      <td>...</td>\n",
       "      <td>...</td>\n",
       "    </tr>\n",
       "    <tr>\n",
       "      <th>3485</th>\n",
       "      <td>hài lòng, giao hàng nhanh.ok</td>\n",
       "      <td>4</td>\n",
       "    </tr>\n",
       "    <tr>\n",
       "      <th>3486</th>\n",
       "      <td>giao hàng nhanh sách hay .</td>\n",
       "      <td>5</td>\n",
       "    </tr>\n",
       "    <tr>\n",
       "      <th>3492</th>\n",
       "      <td>nhanh gọn lẹ</td>\n",
       "      <td>5</td>\n",
       "    </tr>\n",
       "    <tr>\n",
       "      <th>3512</th>\n",
       "      <td>Sách hay</td>\n",
       "      <td>5</td>\n",
       "    </tr>\n",
       "    <tr>\n",
       "      <th>3545</th>\n",
       "      <td>oce</td>\n",
       "      <td>5</td>\n",
       "    </tr>\n",
       "  </tbody>\n",
       "</table>\n",
       "<p>1281 rows × 2 columns</p>\n",
       "</div>"
      ],
      "text/plain": [
       "                                                content  rating\n",
       "0     Mình k ở nhà, nhờ ngừoi nhà nhận hộ thì hộp nh...       2\n",
       "1     Sách mới tinh, có màng bọc, giấy ok mà, giao h...       5\n",
       "2     Đặt hàng 1/8/2021 Nhận hàng 25/9/2021 Dịch bện...       2\n",
       "3     Từ trc đến giờ mình ch bh tin tưởng khi mua ở ...       5\n",
       "4     Sách rất tốt, được đóng gói vô cùng cẩn thận. ...       5\n",
       "...                                                 ...     ...\n",
       "3485                       hài lòng, giao hàng nhanh.ok       4\n",
       "3486                         giao hàng nhanh sách hay .       5\n",
       "3492                                       nhanh gọn lẹ       5\n",
       "3512                                           Sách hay       5\n",
       "3545                                                oce       5\n",
       "\n",
       "[1281 rows x 2 columns]"
      ]
     },
     "execution_count": 33,
     "metadata": {},
     "output_type": "execute_result"
    }
   ],
   "source": [
    "data_model"
   ]
  },
  {
   "cell_type": "code",
   "execution_count": null,
   "metadata": {},
   "outputs": [],
   "source": []
  }
 ],
 "metadata": {
  "colab": {
   "collapsed_sections": [],
   "provenance": []
  },
  "kernelspec": {
   "display_name": "Python 3 (ipykernel)",
   "language": "python",
   "name": "python3"
  },
  "language_info": {
   "codemirror_mode": {
    "name": "ipython",
    "version": 3
   },
   "file_extension": ".py",
   "mimetype": "text/x-python",
   "name": "python",
   "nbconvert_exporter": "python",
   "pygments_lexer": "ipython3",
   "version": "3.9.13"
  },
  "vscode": {
   "interpreter": {
    "hash": "2c59db15f12db719edda241b69045266edff56da6f8aa9e87c023e9e7fd12a0e"
   }
  }
 },
 "nbformat": 4,
 "nbformat_minor": 1
}
