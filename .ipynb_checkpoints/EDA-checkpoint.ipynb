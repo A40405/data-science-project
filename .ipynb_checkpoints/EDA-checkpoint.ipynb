{
 "cells": [
  {
   "cell_type": "markdown",
   "id": "4Zz8lLuVHxMF",
   "metadata": {
    "id": "4Zz8lLuVHxMF"
   },
   "source": [
    "# **EDA: Customer reviews in tiki**\n",
    "![image1](https://i.ibb.co/nmXqbQc/phan-tich-du-lieu-kham-pha.jpg)"
   ]
  },
  {
   "cell_type": "markdown",
   "id": "KnvRP2VRHkGq",
   "metadata": {
    "id": "KnvRP2VRHkGq"
   },
   "source": [
    "## I. Khai báo thư viện cần sử dụng \n",
    "\n"
   ]
  },
  {
   "cell_type": "code",
   "execution_count": 1,
   "id": "d9df79bc",
   "metadata": {},
   "outputs": [],
   "source": [
    "import emoji\n",
    "import numpy as np\n",
    "import pandas as pd \n",
    "import seaborn as sns \n",
    "import matplotlib.pyplot as plt\n"
   ]
  },
  {
   "cell_type": "markdown",
   "id": "8voAl0KyJpII",
   "metadata": {
    "id": "8voAl0KyJpII"
   },
   "source": [
    "## II. Đọc và tìm hiểu dữ liệu "
   ]
  },
  {
   "cell_type": "markdown",
   "id": "CNZw32uxTcEr",
   "metadata": {
    "id": "CNZw32uxTcEr"
   },
   "source": [
    "### 1. Đọc dữ liệu "
   ]
  },
  {
   "cell_type": "code",
   "execution_count": 2,
   "id": "3b332232",
   "metadata": {
    "executionInfo": {
     "elapsed": 35,
     "status": "ok",
     "timestamp": 1668777773014,
     "user": {
      "displayName": "Bùi Hữu Huấn",
      "userId": "07083814915331675675"
     },
     "user_tz": -420
    },
    "id": "3b332232"
   },
   "outputs": [
    {
     "name": "stdout",
     "output_type": "stream",
     "text": [
      "C:\\Users\\ADMIN\\Contacts\\khoa học dữ liệu\\Bài tập lớn\n"
     ]
    }
   ],
   "source": [
    "%cd \"C:\\Users\\ADMIN\\Contacts\\khoa học dữ liệu\\Bài tập lớn\"\n",
    "data = pd.read_csv(\"./dataTiki.csv\")"
   ]
  },
  {
   "cell_type": "markdown",
   "id": "FrpjLXq2T9oc",
   "metadata": {
    "id": "FrpjLXq2T9oc"
   },
   "source": [
    "### 2. Tìm hiểu dữ liệu "
   ]
  },
  {
   "cell_type": "code",
   "execution_count": 3,
   "id": "TR20B9abR8uh",
   "metadata": {
    "colab": {
     "base_uri": "https://localhost:8080/"
    },
    "executionInfo": {
     "elapsed": 35,
     "status": "ok",
     "timestamp": 1668777773014,
     "user": {
      "displayName": "Bùi Hữu Huấn",
      "userId": "07083814915331675675"
     },
     "user_tz": -420
    },
    "id": "TR20B9abR8uh",
    "outputId": "bbcfa864-c426-4602-cbd2-8ed831f14bcc"
   },
   "outputs": [
    {
     "data": {
      "text/plain": [
       "(37540, 15)"
      ]
     },
     "execution_count": 3,
     "metadata": {},
     "output_type": "execute_result"
    }
   ],
   "source": [
    "data.shape"
   ]
  },
  {
   "cell_type": "code",
   "execution_count": 4,
   "id": "23d10991",
   "metadata": {
    "colab": {
     "base_uri": "https://localhost:8080/",
     "height": 381
    },
    "executionInfo": {
     "elapsed": 34,
     "status": "ok",
     "timestamp": 1668777773014,
     "user": {
      "displayName": "Bùi Hữu Huấn",
      "userId": "07083814915331675675"
     },
     "user_tz": -420
    },
    "id": "23d10991",
    "outputId": "1709b715-f3ff-4225-bab9-086d91fd7add"
   },
   "outputs": [
    {
     "data": {
      "text/html": [
       "<div>\n",
       "<style scoped>\n",
       "    .dataframe tbody tr th:only-of-type {\n",
       "        vertical-align: middle;\n",
       "    }\n",
       "\n",
       "    .dataframe tbody tr th {\n",
       "        vertical-align: top;\n",
       "    }\n",
       "\n",
       "    .dataframe thead th {\n",
       "        text-align: right;\n",
       "    }\n",
       "</style>\n",
       "<table border=\"1\" class=\"dataframe\">\n",
       "  <thead>\n",
       "    <tr style=\"text-align: right;\">\n",
       "      <th></th>\n",
       "      <th>id</th>\n",
       "      <th>title</th>\n",
       "      <th>content</th>\n",
       "      <th>status</th>\n",
       "      <th>thank_count</th>\n",
       "      <th>customer_id</th>\n",
       "      <th>comment_count</th>\n",
       "      <th>rating</th>\n",
       "      <th>suggestions</th>\n",
       "      <th>spid</th>\n",
       "      <th>is_photo</th>\n",
       "      <th>seller</th>\n",
       "      <th>product_id</th>\n",
       "      <th>timeline</th>\n",
       "      <th>purchased</th>\n",
       "    </tr>\n",
       "  </thead>\n",
       "  <tbody>\n",
       "    <tr>\n",
       "      <th>0</th>\n",
       "      <td>8027353</td>\n",
       "      <td>Không hài lòng</td>\n",
       "      <td>Mình k ở nhà, nhờ ngừoi nhà nhận hộ thì hộp nh...</td>\n",
       "      <td>approved</td>\n",
       "      <td>1</td>\n",
       "      <td>16551667</td>\n",
       "      <td>1</td>\n",
       "      <td>2</td>\n",
       "      <td>NaN</td>\n",
       "      <td>288002</td>\n",
       "      <td>True</td>\n",
       "      <td>Tiki Trading</td>\n",
       "      <td>555504</td>\n",
       "      <td>Đã dùng 1 ngày</td>\n",
       "      <td>True</td>\n",
       "    </tr>\n",
       "    <tr>\n",
       "      <th>1</th>\n",
       "      <td>2707478</td>\n",
       "      <td>Chất lượng</td>\n",
       "      <td>Sách mới tinh, có màng bọc, giấy ok mà, giao h...</td>\n",
       "      <td>approved</td>\n",
       "      <td>27</td>\n",
       "      <td>14913089</td>\n",
       "      <td>3</td>\n",
       "      <td>5</td>\n",
       "      <td>NaN</td>\n",
       "      <td>288002</td>\n",
       "      <td>True</td>\n",
       "      <td>Tiki Trading</td>\n",
       "      <td>555504</td>\n",
       "      <td>Đã dùng 3 ngày</td>\n",
       "      <td>True</td>\n",
       "    </tr>\n",
       "    <tr>\n",
       "      <th>2</th>\n",
       "      <td>12322447</td>\n",
       "      <td>Không hài lòng</td>\n",
       "      <td>Đặt hàng 1/8/2021\\nNhận hàng 25/9/2021\\nDịch b...</td>\n",
       "      <td>approved</td>\n",
       "      <td>0</td>\n",
       "      <td>6987116</td>\n",
       "      <td>0</td>\n",
       "      <td>2</td>\n",
       "      <td>NaN</td>\n",
       "      <td>288002</td>\n",
       "      <td>True</td>\n",
       "      <td>Tiki Trading</td>\n",
       "      <td>555504</td>\n",
       "      <td>Đã dùng 1 giờ</td>\n",
       "      <td>True</td>\n",
       "    </tr>\n",
       "  </tbody>\n",
       "</table>\n",
       "</div>"
      ],
      "text/plain": [
       "         id           title  \\\n",
       "0   8027353  Không hài lòng   \n",
       "1   2707478      Chất lượng   \n",
       "2  12322447  Không hài lòng   \n",
       "\n",
       "                                             content    status  thank_count  \\\n",
       "0  Mình k ở nhà, nhờ ngừoi nhà nhận hộ thì hộp nh...  approved            1   \n",
       "1  Sách mới tinh, có màng bọc, giấy ok mà, giao h...  approved           27   \n",
       "2  Đặt hàng 1/8/2021\\nNhận hàng 25/9/2021\\nDịch b...  approved            0   \n",
       "\n",
       "   customer_id  comment_count  rating suggestions    spid  is_photo  \\\n",
       "0     16551667              1       2         NaN  288002      True   \n",
       "1     14913089              3       5         NaN  288002      True   \n",
       "2      6987116              0       2         NaN  288002      True   \n",
       "\n",
       "         seller  product_id        timeline  purchased  \n",
       "0  Tiki Trading      555504  Đã dùng 1 ngày       True  \n",
       "1  Tiki Trading      555504  Đã dùng 3 ngày       True  \n",
       "2  Tiki Trading      555504   Đã dùng 1 giờ       True  "
      ]
     },
     "execution_count": 4,
     "metadata": {},
     "output_type": "execute_result"
    }
   ],
   "source": [
    "data.head(3)"
   ]
  },
  {
   "cell_type": "code",
   "execution_count": 5,
   "id": "9wImQFM1SNH5",
   "metadata": {
    "colab": {
     "base_uri": "https://localhost:8080/",
     "height": 346
    },
    "executionInfo": {
     "elapsed": 34,
     "status": "ok",
     "timestamp": 1668777773015,
     "user": {
      "displayName": "Bùi Hữu Huấn",
      "userId": "07083814915331675675"
     },
     "user_tz": -420
    },
    "id": "9wImQFM1SNH5",
    "outputId": "83cd11d5-ef9e-4d5b-b03d-56347480f17d"
   },
   "outputs": [
    {
     "data": {
      "text/html": [
       "<div>\n",
       "<style scoped>\n",
       "    .dataframe tbody tr th:only-of-type {\n",
       "        vertical-align: middle;\n",
       "    }\n",
       "\n",
       "    .dataframe tbody tr th {\n",
       "        vertical-align: top;\n",
       "    }\n",
       "\n",
       "    .dataframe thead th {\n",
       "        text-align: right;\n",
       "    }\n",
       "</style>\n",
       "<table border=\"1\" class=\"dataframe\">\n",
       "  <thead>\n",
       "    <tr style=\"text-align: right;\">\n",
       "      <th></th>\n",
       "      <th>id</th>\n",
       "      <th>title</th>\n",
       "      <th>content</th>\n",
       "      <th>status</th>\n",
       "      <th>thank_count</th>\n",
       "      <th>customer_id</th>\n",
       "      <th>comment_count</th>\n",
       "      <th>rating</th>\n",
       "      <th>suggestions</th>\n",
       "      <th>spid</th>\n",
       "      <th>is_photo</th>\n",
       "      <th>seller</th>\n",
       "      <th>product_id</th>\n",
       "      <th>timeline</th>\n",
       "      <th>purchased</th>\n",
       "    </tr>\n",
       "  </thead>\n",
       "  <tbody>\n",
       "    <tr>\n",
       "      <th>37537</th>\n",
       "      <td>3961045</td>\n",
       "      <td>Cực kì hài lòng</td>\n",
       "      <td>good</td>\n",
       "      <td>approved</td>\n",
       "      <td>0</td>\n",
       "      <td>14613788</td>\n",
       "      <td>0</td>\n",
       "      <td>5</td>\n",
       "      <td>NaN</td>\n",
       "      <td>53900125</td>\n",
       "      <td>False</td>\n",
       "      <td>AHABOOKS</td>\n",
       "      <td>53900124</td>\n",
       "      <td>Đã dùng 7 ngày</td>\n",
       "      <td>True</td>\n",
       "    </tr>\n",
       "    <tr>\n",
       "      <th>37538</th>\n",
       "      <td>7885340</td>\n",
       "      <td>Cực kì hài lòng</td>\n",
       "      <td>NaN</td>\n",
       "      <td>approved</td>\n",
       "      <td>0</td>\n",
       "      <td>20324131</td>\n",
       "      <td>0</td>\n",
       "      <td>5</td>\n",
       "      <td>Chất lượng tốt \\nGiao hàng nhanh \\nNhà bán phụ...</td>\n",
       "      <td>53900125</td>\n",
       "      <td>False</td>\n",
       "      <td>AHABOOKS</td>\n",
       "      <td>53900124</td>\n",
       "      <td>Đã dùng 5 ngày</td>\n",
       "      <td>True</td>\n",
       "    </tr>\n",
       "    <tr>\n",
       "      <th>37539</th>\n",
       "      <td>11296037</td>\n",
       "      <td>Cực kì hài lòng</td>\n",
       "      <td>NaN</td>\n",
       "      <td>approved</td>\n",
       "      <td>0</td>\n",
       "      <td>18358113</td>\n",
       "      <td>0</td>\n",
       "      <td>5</td>\n",
       "      <td>Giao hàng nhanh \\nGiá tốt \\n</td>\n",
       "      <td>53900125</td>\n",
       "      <td>False</td>\n",
       "      <td>AHABOOKS</td>\n",
       "      <td>53900124</td>\n",
       "      <td>Đã dùng 2 ngày</td>\n",
       "      <td>True</td>\n",
       "    </tr>\n",
       "  </tbody>\n",
       "</table>\n",
       "</div>"
      ],
      "text/plain": [
       "             id            title content    status  thank_count  customer_id  \\\n",
       "37537   3961045  Cực kì hài lòng    good  approved            0     14613788   \n",
       "37538   7885340  Cực kì hài lòng     NaN  approved            0     20324131   \n",
       "37539  11296037  Cực kì hài lòng     NaN  approved            0     18358113   \n",
       "\n",
       "       comment_count  rating  \\\n",
       "37537              0       5   \n",
       "37538              0       5   \n",
       "37539              0       5   \n",
       "\n",
       "                                             suggestions      spid  is_photo  \\\n",
       "37537                                                NaN  53900125     False   \n",
       "37538  Chất lượng tốt \\nGiao hàng nhanh \\nNhà bán phụ...  53900125     False   \n",
       "37539                       Giao hàng nhanh \\nGiá tốt \\n  53900125     False   \n",
       "\n",
       "         seller  product_id        timeline  purchased  \n",
       "37537  AHABOOKS    53900124  Đã dùng 7 ngày       True  \n",
       "37538  AHABOOKS    53900124  Đã dùng 5 ngày       True  \n",
       "37539  AHABOOKS    53900124  Đã dùng 2 ngày       True  "
      ]
     },
     "execution_count": 5,
     "metadata": {},
     "output_type": "execute_result"
    }
   ],
   "source": [
    "data.tail(3)"
   ]
  },
  {
   "cell_type": "code",
   "execution_count": 6,
   "id": "dba791cd",
   "metadata": {
    "colab": {
     "base_uri": "https://localhost:8080/"
    },
    "executionInfo": {
     "elapsed": 33,
     "status": "ok",
     "timestamp": 1668777773015,
     "user": {
      "displayName": "Bùi Hữu Huấn",
      "userId": "07083814915331675675"
     },
     "user_tz": -420
    },
    "id": "dba791cd",
    "outputId": "e99388b1-5ce0-4121-b383-f73f9a43bed1"
   },
   "outputs": [
    {
     "name": "stdout",
     "output_type": "stream",
     "text": [
      "<class 'pandas.core.frame.DataFrame'>\n",
      "RangeIndex: 37540 entries, 0 to 37539\n",
      "Data columns (total 15 columns):\n",
      " #   Column         Non-Null Count  Dtype \n",
      "---  ------         --------------  ----- \n",
      " 0   id             37540 non-null  int64 \n",
      " 1   title          37539 non-null  object\n",
      " 2   content        13875 non-null  object\n",
      " 3   status         37540 non-null  object\n",
      " 4   thank_count    37540 non-null  int64 \n",
      " 5   customer_id    37540 non-null  int64 \n",
      " 6   comment_count  37540 non-null  int64 \n",
      " 7   rating         37540 non-null  int64 \n",
      " 8   suggestions    9466 non-null   object\n",
      " 9   spid           37540 non-null  int64 \n",
      " 10  is_photo       37540 non-null  bool  \n",
      " 11  seller         37540 non-null  object\n",
      " 12  product_id     37540 non-null  int64 \n",
      " 13  timeline       37540 non-null  object\n",
      " 14  purchased      37540 non-null  bool  \n",
      "dtypes: bool(2), int64(7), object(6)\n",
      "memory usage: 3.8+ MB\n"
     ]
    }
   ],
   "source": [
    "data.info()"
   ]
  },
  {
   "cell_type": "markdown",
   "id": "fs1fxqh9O4wC",
   "metadata": {
    "id": "fs1fxqh9O4wC"
   },
   "source": [
    "![ảnh jupyter](https://i.ibb.co/myktQL1/th-ng-tin-data.jpg)\n",
    "**Thông tin các cột**\n"
   ]
  },
  {
   "cell_type": "markdown",
   "id": "cf051nBQUF7W",
   "metadata": {
    "id": "cf051nBQUF7W"
   },
   "source": [
    "### 3. Kiểm tra một số vấn đề bất thường "
   ]
  },
  {
   "cell_type": "markdown",
   "id": "uobqhM8FURdC",
   "metadata": {
    "id": "uobqhM8FURdC"
   },
   "source": [
    "#### a. Kiểm tra dữ liệu null trong data  "
   ]
  },
  {
   "cell_type": "code",
   "execution_count": 7,
   "id": "iS8D9lhgOzHk",
   "metadata": {
    "colab": {
     "base_uri": "https://localhost:8080/"
    },
    "executionInfo": {
     "elapsed": 31,
     "status": "ok",
     "timestamp": 1668777773015,
     "user": {
      "displayName": "Bùi Hữu Huấn",
      "userId": "07083814915331675675"
     },
     "user_tz": -420
    },
    "id": "iS8D9lhgOzHk",
    "outputId": "278cf40d-ef21-48be-8e9e-3c5191b2e986"
   },
   "outputs": [
    {
     "data": {
      "text/plain": [
       "title          0.000027\n",
       "content        0.630394\n",
       "suggestions    0.747842\n",
       "dtype: float64"
      ]
     },
     "execution_count": 7,
     "metadata": {},
     "output_type": "execute_result"
    }
   ],
   "source": [
    "a = data.isnull().sum()/len(data)\n",
    "a.where(a>0.0).dropna()\n",
    "# Nhận xét: cột content và suggestions thiếu rất nhiều \n",
    "# Nguyên nhân: - Cột content là cột đánh giá của người dùng, nó thiếu nhiều là điều nình thường do đa số người mua hàng \n",
    "#              đều chỉ đánh giá sao cho sản phẩm mà, ngại không muốn viết đánh giá. \n",
    "#              - Còn cột suggestions là cột khách hàng sẽ chọn một vài đánh giá gợi ý của tiki, nguyên nhân nó thiếu cũng \n",
    "#              giống như cột content do người dùng chỉ vote sao, ko muốn đánh giá trực tiếp sản phẩm  "
   ]
  },
  {
   "cell_type": "markdown",
   "id": "RF3TmyspUjqm",
   "metadata": {
    "id": "RF3TmyspUjqm"
   },
   "source": [
    "#### b. Kiểm tra trùng lặp dữ liệu"
   ]
  },
  {
   "cell_type": "code",
   "execution_count": 8,
   "id": "HZdYNWc5JxvN",
   "metadata": {
    "colab": {
     "base_uri": "https://localhost:8080/"
    },
    "executionInfo": {
     "elapsed": 29,
     "status": "ok",
     "timestamp": 1668777773016,
     "user": {
      "displayName": "Bùi Hữu Huấn",
      "userId": "07083814915331675675"
     },
     "user_tz": -420
    },
    "id": "HZdYNWc5JxvN",
    "outputId": "ad53151e-16f1-4726-c330-85a1ef12ec75"
   },
   "outputs": [
    {
     "data": {
      "text/plain": [
       "0"
      ]
     },
     "execution_count": 8,
     "metadata": {},
     "output_type": "execute_result"
    }
   ],
   "source": [
    "data.id.duplicated().sum() # không có dữ liệu trùng lặp "
   ]
  },
  {
   "cell_type": "code",
   "execution_count": 9,
   "id": "bI_0rEj8XeoC",
   "metadata": {
    "colab": {
     "base_uri": "https://localhost:8080/"
    },
    "executionInfo": {
     "elapsed": 27,
     "status": "ok",
     "timestamp": 1668777773016,
     "user": {
      "displayName": "Bùi Hữu Huấn",
      "userId": "07083814915331675675"
     },
     "user_tz": -420
    },
    "id": "bI_0rEj8XeoC",
    "outputId": "161afc85-c38f-4044-b62b-67f23a4df50f"
   },
   "outputs": [
    {
     "data": {
      "text/plain": [
       "26469"
      ]
     },
     "execution_count": 9,
     "metadata": {},
     "output_type": "execute_result"
    }
   ],
   "source": [
    "data.content.duplicated().sum() # có khá nhiều cmt bị trùng lặp, suy luận ban đầu có do 1 vài cửa hàng đang buff sao."
   ]
  },
  {
   "cell_type": "code",
   "execution_count": 10,
   "id": "cgS55JJlYgA1",
   "metadata": {
    "colab": {
     "base_uri": "https://localhost:8080/"
    },
    "executionInfo": {
     "elapsed": 25,
     "status": "ok",
     "timestamp": 1668777773016,
     "user": {
      "displayName": "Bùi Hữu Huấn",
      "userId": "07083814915331675675"
     },
     "user_tz": -420
    },
    "id": "cgS55JJlYgA1",
    "outputId": "eebde9b1-b77e-4392-b85b-fe4d6e20686a"
   },
   "outputs": [
    {
     "data": {
      "text/plain": [
       "ok          254\n",
       "Ok          181\n",
       "Hay         143\n",
       "Sách hay    140\n",
       "hay         138\n",
       "sách hay    124\n",
       "tốt         118\n",
       "Tốt         102\n",
       ".            85\n",
       "good         70\n",
       "Name: content, dtype: int64"
      ]
     },
     "execution_count": 10,
     "metadata": {},
     "output_type": "execute_result"
    }
   ],
   "source": [
    "data.content.value_counts().head(10)\n",
    "# các đánh giá trùng lặp đều là đánh giá ngắn nên loại bỏ nghi ngờ cửa hàng buff sao, có thể do người mua muốn đánh giá \n",
    "# nhanh gọn và các từ đánh giá khá là phổ thông nên bị trùng lặp"
   ]
  },
  {
   "cell_type": "code",
   "execution_count": 11,
   "id": "3N3GrJffZ9qi",
   "metadata": {
    "colab": {
     "base_uri": "https://localhost:8080/"
    },
    "executionInfo": {
     "elapsed": 24,
     "status": "ok",
     "timestamp": 1668777773017,
     "user": {
      "displayName": "Bùi Hữu Huấn",
      "userId": "07083814915331675675"
     },
     "user_tz": -420
    },
    "id": "3N3GrJffZ9qi",
    "outputId": "c8756732-b7c5-40c7-cfae-3d38e722812b"
   },
   "outputs": [
    {
     "data": {
      "text/plain": [
       "3344"
      ]
     },
     "execution_count": 11,
     "metadata": {},
     "output_type": "execute_result"
    }
   ],
   "source": [
    "data.customer_id.duplicated().sum()\n",
    "# nguyên nhân: nhiều khách hàng đánh giá nhiều lần , do data gộp bởi nhiều cửa hàng nên đây là điều hiển nhiên "
   ]
  },
  {
   "cell_type": "markdown",
   "id": "s_yHA3hya5P2",
   "metadata": {
    "id": "s_yHA3hya5P2"
   },
   "source": [
    "#### c. Tìm hiểu một vài cột it ảnh hưởng"
   ]
  },
  {
   "cell_type": "code",
   "execution_count": 12,
   "id": "2fe38e63",
   "metadata": {
    "colab": {
     "base_uri": "https://localhost:8080/"
    },
    "executionInfo": {
     "elapsed": 22,
     "status": "ok",
     "timestamp": 1668777773017,
     "user": {
      "displayName": "Bùi Hữu Huấn",
      "userId": "07083814915331675675"
     },
     "user_tz": -420
    },
    "id": "2fe38e63",
    "outputId": "a6b07eb8-99eb-4b29-9bad-bbcd5fc93b6f"
   },
   "outputs": [
    {
     "name": "stdout",
     "output_type": "stream",
     "text": [
      "['approved'] =>các đánh giá đều được kiểm duyệt\n",
      "\n",
      "True     37533\n",
      "False        7\n",
      "Name: purchased, dtype: int64\n",
      "=> Một vài bình luận tuy chưa mua nhưng vẫn được bình luận\n"
     ]
    }
   ],
   "source": [
    "print(data.status.unique(),'=>các đánh giá đều được kiểm duyệt',end='\\n\\n') \n",
    "print(data.purchased.value_counts()) \n",
    "print(\"=> Một vài bình luận tuy chưa mua nhưng vẫn được bình luận\")"
   ]
  },
  {
   "cell_type": "code",
   "execution_count": 13,
   "id": "niHIS9AExtC2",
   "metadata": {
    "colab": {
     "base_uri": "https://localhost:8080/"
    },
    "executionInfo": {
     "elapsed": 20,
     "status": "ok",
     "timestamp": 1668777773017,
     "user": {
      "displayName": "Bùi Hữu Huấn",
      "userId": "07083814915331675675"
     },
     "user_tz": -420
    },
    "id": "niHIS9AExtC2",
    "outputId": "d58e516d-d451-4417-a1db-585eb4c3e765"
   },
   "outputs": [
    {
     "data": {
      "text/plain": [
       "0    36398\n",
       "1      730\n",
       "2      160\n",
       "3       77\n",
       "4       44\n",
       "5       25\n",
       "Name: thank_count, dtype: int64"
      ]
     },
     "execution_count": 13,
     "metadata": {},
     "output_type": "execute_result"
    }
   ],
   "source": [
    "data.thank_count.value_counts().loc[:5]\n",
    "# Đa số các cmt đều không có lượt like, đã bao gồm các đánh giá chỉ có vote sao, \n",
    "# có một vài cmt hay nên được khá nhiều lượt thích"
   ]
  },
  {
   "cell_type": "code",
   "execution_count": 14,
   "id": "HbllrKeQydy9",
   "metadata": {
    "colab": {
     "base_uri": "https://localhost:8080/"
    },
    "executionInfo": {
     "elapsed": 16,
     "status": "ok",
     "timestamp": 1668777773018,
     "user": {
      "displayName": "Bùi Hữu Huấn",
      "userId": "07083814915331675675"
     },
     "user_tz": -420
    },
    "id": "HbllrKeQydy9",
    "outputId": "1983a11e-dc32-4bd4-f6d0-2d951cb2783a"
   },
   "outputs": [
    {
     "name": "stdout",
     "output_type": "stream",
     "text": [
      "Content: Đã mua ở Tiki rất rất nhiều sách, nhưng đây là lần đâu tiên tôi cảm thấy sốc. Tôi đã đọc cuốn này nhưng muốn mua bản mới để lưu giữ. Đến hôm nay tôi mới mở cuốn sách ra lần đầu tiên, nhưng rất nhiều trang sách đã có dấu bút bi gạch dưới. Nếu như tôi kiểm tra ngay khi giao hàng thì sự việc tôi trình bày có cơ sở hơn. Nhưng bây giờ đã mấy tháng và tôi chỉ muốn nhận xét ở đây để Tiki lưu ý. Là một người không có thói quen viết hay tô màu vào sách thì tôi thật sự cảm thấy nghi ngờ và đáng thất vọng về sản phẩm này của Tiki.\n",
      "Đánh giá: 1\n"
     ]
    }
   ],
   "source": [
    "print(\"Content:\",data.content.at[data.thank_count.idxmax()])\n",
    "print(\"Đánh giá:\",data.rating.at[data.thank_count.idxmax()])"
   ]
  },
  {
   "cell_type": "markdown",
   "id": "UHhFsWL1eBrs",
   "metadata": {
    "id": "UHhFsWL1eBrs"
   },
   "source": [
    "## III. Xử lý cơ bản dữ liệu"
   ]
  },
  {
   "cell_type": "markdown",
   "id": "iZkpSuEVeL9Z",
   "metadata": {
    "id": "iZkpSuEVeL9Z"
   },
   "source": [
    "### 1. Loại bỏ 1 vài cột không cần thiết"
   ]
  },
  {
   "cell_type": "code",
   "execution_count": 15,
   "id": "AIuNdobNbVbT",
   "metadata": {
    "colab": {
     "base_uri": "https://localhost:8080/",
     "height": 419
    },
    "executionInfo": {
     "elapsed": 14,
     "status": "ok",
     "timestamp": 1668777773018,
     "user": {
      "displayName": "Bùi Hữu Huấn",
      "userId": "07083814915331675675"
     },
     "user_tz": -420
    },
    "id": "AIuNdobNbVbT",
    "outputId": "471a1d1b-883f-4e62-95ef-b642a4b1c7eb"
   },
   "outputs": [
    {
     "data": {
      "text/html": [
       "<div>\n",
       "<style scoped>\n",
       "    .dataframe tbody tr th:only-of-type {\n",
       "        vertical-align: middle;\n",
       "    }\n",
       "\n",
       "    .dataframe tbody tr th {\n",
       "        vertical-align: top;\n",
       "    }\n",
       "\n",
       "    .dataframe thead th {\n",
       "        text-align: right;\n",
       "    }\n",
       "</style>\n",
       "<table border=\"1\" class=\"dataframe\">\n",
       "  <thead>\n",
       "    <tr style=\"text-align: right;\">\n",
       "      <th></th>\n",
       "      <th>id</th>\n",
       "      <th>title</th>\n",
       "      <th>content</th>\n",
       "      <th>status</th>\n",
       "      <th>customer_id</th>\n",
       "      <th>comment_count</th>\n",
       "      <th>rating</th>\n",
       "      <th>suggestions</th>\n",
       "      <th>spid</th>\n",
       "      <th>is_photo</th>\n",
       "      <th>seller</th>\n",
       "      <th>product_id</th>\n",
       "      <th>timeline</th>\n",
       "      <th>purchased</th>\n",
       "    </tr>\n",
       "  </thead>\n",
       "  <tbody>\n",
       "    <tr>\n",
       "      <th>0</th>\n",
       "      <td>8027353</td>\n",
       "      <td>Không hài lòng</td>\n",
       "      <td>Mình k ở nhà, nhờ ngừoi nhà nhận hộ thì hộp nh...</td>\n",
       "      <td>approved</td>\n",
       "      <td>16551667</td>\n",
       "      <td>1</td>\n",
       "      <td>2</td>\n",
       "      <td>NaN</td>\n",
       "      <td>288002</td>\n",
       "      <td>True</td>\n",
       "      <td>Tiki Trading</td>\n",
       "      <td>555504</td>\n",
       "      <td>Đã dùng 1 ngày</td>\n",
       "      <td>True</td>\n",
       "    </tr>\n",
       "    <tr>\n",
       "      <th>1</th>\n",
       "      <td>2707478</td>\n",
       "      <td>Chất lượng</td>\n",
       "      <td>Sách mới tinh, có màng bọc, giấy ok mà, giao h...</td>\n",
       "      <td>approved</td>\n",
       "      <td>14913089</td>\n",
       "      <td>3</td>\n",
       "      <td>5</td>\n",
       "      <td>NaN</td>\n",
       "      <td>288002</td>\n",
       "      <td>True</td>\n",
       "      <td>Tiki Trading</td>\n",
       "      <td>555504</td>\n",
       "      <td>Đã dùng 3 ngày</td>\n",
       "      <td>True</td>\n",
       "    </tr>\n",
       "  </tbody>\n",
       "</table>\n",
       "</div>"
      ],
      "text/plain": [
       "        id           title                                            content  \\\n",
       "0  8027353  Không hài lòng  Mình k ở nhà, nhờ ngừoi nhà nhận hộ thì hộp nh...   \n",
       "1  2707478      Chất lượng  Sách mới tinh, có màng bọc, giấy ok mà, giao h...   \n",
       "\n",
       "     status  customer_id  comment_count  rating suggestions    spid  is_photo  \\\n",
       "0  approved     16551667              1       2         NaN  288002      True   \n",
       "1  approved     14913089              3       5         NaN  288002      True   \n",
       "\n",
       "         seller  product_id        timeline  purchased  \n",
       "0  Tiki Trading      555504  Đã dùng 1 ngày       True  \n",
       "1  Tiki Trading      555504  Đã dùng 3 ngày       True  "
      ]
     },
     "execution_count": 15,
     "metadata": {},
     "output_type": "execute_result"
    }
   ],
   "source": [
    "data.drop(columns = ['thank_count'],inplace=True) \n",
    "# Lý do:- cột thank_count không có quá nhiều ý nghĩa\n",
    "data.head(2)"
   ]
  },
  {
   "cell_type": "markdown",
   "id": "FgSKAHzLfqc4",
   "metadata": {
    "id": "FgSKAHzLfqc4"
   },
   "source": [
    "### 2. Khởi tạo thuộc tính mới\n",
    "Cột **timeline** kiểu chữ sẽ khó trong việc tìm hiểu dữ liệu => tạo ra cột **timeline_convert**\n"
   ]
  },
  {
   "cell_type": "code",
   "execution_count": 16,
   "id": "dBj4M7gvhMld",
   "metadata": {
    "colab": {
     "base_uri": "https://localhost:8080/"
    },
    "executionInfo": {
     "elapsed": 631,
     "status": "ok",
     "timestamp": 1668777773638,
     "user": {
      "displayName": "Bùi Hữu Huấn",
      "userId": "07083814915331675675"
     },
     "user_tz": -420
    },
    "id": "dBj4M7gvhMld",
    "outputId": "9865d394-ae05-4bc6-af92-644154065a52"
   },
   "outputs": [
    {
     "data": {
      "text/plain": [
       "time      int64\n",
       "types    object\n",
       "dtype: object"
      ]
     },
     "execution_count": 16,
     "metadata": {},
     "output_type": "execute_result"
    }
   ],
   "source": [
    "data.timeline.fillna(method='ffill',inplace = True) \n",
    "a = np.array([i[8:].split() for i in data.timeline.dropna()])\n",
    "b = pd.DataFrame(a,columns = ['time','types'])\n",
    "b.time = b.time.astype(np.int64)\n",
    "b.dtypes"
   ]
  },
  {
   "cell_type": "code",
   "execution_count": 17,
   "id": "nm91SSwLs354",
   "metadata": {
    "colab": {
     "base_uri": "https://localhost:8080/"
    },
    "executionInfo": {
     "elapsed": 21152,
     "status": "ok",
     "timestamp": 1668777794778,
     "user": {
      "displayName": "Bùi Hữu Huấn",
      "userId": "07083814915331675675"
     },
     "user_tz": -420
    },
    "id": "nm91SSwLs354",
    "outputId": "10de6da3-fc1d-4cd8-a5c0-a5568e3a3a17"
   },
   "outputs": [
    {
     "data": {
      "text/plain": [
       "time       int64\n",
       "types    float64\n",
       "dtype: object"
      ]
     },
     "execution_count": 17,
     "metadata": {},
     "output_type": "execute_result"
    }
   ],
   "source": [
    "# quy đổi về giờ\n",
    "for i in range(len(b.types)):\n",
    "  if(b.types[i] == 'giây'): b.types.at[i] = float(1/360)\n",
    "  elif(b.types[i] == 'phút'): b.types.at[i] = float(1/60)\n",
    "  elif(b.types[i] == 'giờ'): b.types.at[i] = float(1)\n",
    "  elif(b.types[i] == 'ngày'): b.types.at[i] = float(24)\n",
    "  elif(b.types[i] == 'tháng'): b.types.at[i] = float(30*24)\n",
    "  else: b.types.at[i] = float(365*24)\n",
    "b.types = b.types.astype(float)\n",
    "b.dtypes"
   ]
  },
  {
   "cell_type": "code",
   "execution_count": 18,
   "id": "Tm33Ve6Yt1Rj",
   "metadata": {
    "colab": {
     "base_uri": "https://localhost:8080/",
     "height": 206
    },
    "executionInfo": {
     "elapsed": 41,
     "status": "ok",
     "timestamp": 1668777794779,
     "user": {
      "displayName": "Bùi Hữu Huấn",
      "userId": "07083814915331675675"
     },
     "user_tz": -420
    },
    "id": "Tm33Ve6Yt1Rj",
    "outputId": "fdd6a11c-df3d-4be0-ca9c-1d8ba823baf1"
   },
   "outputs": [
    {
     "data": {
      "text/html": [
       "<div>\n",
       "<style scoped>\n",
       "    .dataframe tbody tr th:only-of-type {\n",
       "        vertical-align: middle;\n",
       "    }\n",
       "\n",
       "    .dataframe tbody tr th {\n",
       "        vertical-align: top;\n",
       "    }\n",
       "\n",
       "    .dataframe thead th {\n",
       "        text-align: right;\n",
       "    }\n",
       "</style>\n",
       "<table border=\"1\" class=\"dataframe\">\n",
       "  <thead>\n",
       "    <tr style=\"text-align: right;\">\n",
       "      <th></th>\n",
       "      <th>time</th>\n",
       "      <th>types</th>\n",
       "      <th>timeline_convert</th>\n",
       "    </tr>\n",
       "  </thead>\n",
       "  <tbody>\n",
       "    <tr>\n",
       "      <th>0</th>\n",
       "      <td>1</td>\n",
       "      <td>24.0</td>\n",
       "      <td>24.0</td>\n",
       "    </tr>\n",
       "    <tr>\n",
       "      <th>1</th>\n",
       "      <td>3</td>\n",
       "      <td>24.0</td>\n",
       "      <td>72.0</td>\n",
       "    </tr>\n",
       "    <tr>\n",
       "      <th>2</th>\n",
       "      <td>1</td>\n",
       "      <td>1.0</td>\n",
       "      <td>1.0</td>\n",
       "    </tr>\n",
       "    <tr>\n",
       "      <th>3</th>\n",
       "      <td>3</td>\n",
       "      <td>1.0</td>\n",
       "      <td>3.0</td>\n",
       "    </tr>\n",
       "    <tr>\n",
       "      <th>4</th>\n",
       "      <td>4</td>\n",
       "      <td>1.0</td>\n",
       "      <td>4.0</td>\n",
       "    </tr>\n",
       "  </tbody>\n",
       "</table>\n",
       "</div>"
      ],
      "text/plain": [
       "   time  types  timeline_convert\n",
       "0     1   24.0              24.0\n",
       "1     3   24.0              72.0\n",
       "2     1    1.0               1.0\n",
       "3     3    1.0               3.0\n",
       "4     4    1.0               4.0"
      ]
     },
     "execution_count": 18,
     "metadata": {},
     "output_type": "execute_result"
    }
   ],
   "source": [
    "b['timeline_convert'] = b.time*b.types\n",
    "data['timeline_convert'] = np.round(b.time*b.types,3)\n",
    "b.head()"
   ]
  },
  {
   "cell_type": "code",
   "execution_count": 19,
   "id": "y6DreZo2jd0u",
   "metadata": {
    "colab": {
     "base_uri": "https://localhost:8080/",
     "height": 419
    },
    "executionInfo": {
     "elapsed": 40,
     "status": "ok",
     "timestamp": 1668777794780,
     "user": {
      "displayName": "Bùi Hữu Huấn",
      "userId": "07083814915331675675"
     },
     "user_tz": -420
    },
    "id": "y6DreZo2jd0u",
    "outputId": "736e5947-d3ba-4bab-d61b-62f6a7628a47"
   },
   "outputs": [
    {
     "data": {
      "text/html": [
       "<div>\n",
       "<style scoped>\n",
       "    .dataframe tbody tr th:only-of-type {\n",
       "        vertical-align: middle;\n",
       "    }\n",
       "\n",
       "    .dataframe tbody tr th {\n",
       "        vertical-align: top;\n",
       "    }\n",
       "\n",
       "    .dataframe thead th {\n",
       "        text-align: right;\n",
       "    }\n",
       "</style>\n",
       "<table border=\"1\" class=\"dataframe\">\n",
       "  <thead>\n",
       "    <tr style=\"text-align: right;\">\n",
       "      <th></th>\n",
       "      <th>id</th>\n",
       "      <th>title</th>\n",
       "      <th>content</th>\n",
       "      <th>status</th>\n",
       "      <th>customer_id</th>\n",
       "      <th>comment_count</th>\n",
       "      <th>rating</th>\n",
       "      <th>suggestions</th>\n",
       "      <th>spid</th>\n",
       "      <th>is_photo</th>\n",
       "      <th>seller</th>\n",
       "      <th>product_id</th>\n",
       "      <th>timeline</th>\n",
       "      <th>purchased</th>\n",
       "      <th>timeline_convert</th>\n",
       "    </tr>\n",
       "  </thead>\n",
       "  <tbody>\n",
       "    <tr>\n",
       "      <th>0</th>\n",
       "      <td>8027353</td>\n",
       "      <td>Không hài lòng</td>\n",
       "      <td>Mình k ở nhà, nhờ ngừoi nhà nhận hộ thì hộp nh...</td>\n",
       "      <td>approved</td>\n",
       "      <td>16551667</td>\n",
       "      <td>1</td>\n",
       "      <td>2</td>\n",
       "      <td>NaN</td>\n",
       "      <td>288002</td>\n",
       "      <td>True</td>\n",
       "      <td>Tiki Trading</td>\n",
       "      <td>555504</td>\n",
       "      <td>Đã dùng 1 ngày</td>\n",
       "      <td>True</td>\n",
       "      <td>24.0</td>\n",
       "    </tr>\n",
       "    <tr>\n",
       "      <th>1</th>\n",
       "      <td>2707478</td>\n",
       "      <td>Chất lượng</td>\n",
       "      <td>Sách mới tinh, có màng bọc, giấy ok mà, giao h...</td>\n",
       "      <td>approved</td>\n",
       "      <td>14913089</td>\n",
       "      <td>3</td>\n",
       "      <td>5</td>\n",
       "      <td>NaN</td>\n",
       "      <td>288002</td>\n",
       "      <td>True</td>\n",
       "      <td>Tiki Trading</td>\n",
       "      <td>555504</td>\n",
       "      <td>Đã dùng 3 ngày</td>\n",
       "      <td>True</td>\n",
       "      <td>72.0</td>\n",
       "    </tr>\n",
       "  </tbody>\n",
       "</table>\n",
       "</div>"
      ],
      "text/plain": [
       "        id           title                                            content  \\\n",
       "0  8027353  Không hài lòng  Mình k ở nhà, nhờ ngừoi nhà nhận hộ thì hộp nh...   \n",
       "1  2707478      Chất lượng  Sách mới tinh, có màng bọc, giấy ok mà, giao h...   \n",
       "\n",
       "     status  customer_id  comment_count  rating suggestions    spid  is_photo  \\\n",
       "0  approved     16551667              1       2         NaN  288002      True   \n",
       "1  approved     14913089              3       5         NaN  288002      True   \n",
       "\n",
       "         seller  product_id        timeline  purchased  timeline_convert  \n",
       "0  Tiki Trading      555504  Đã dùng 1 ngày       True              24.0  \n",
       "1  Tiki Trading      555504  Đã dùng 3 ngày       True              72.0  "
      ]
     },
     "execution_count": 19,
     "metadata": {},
     "output_type": "execute_result"
    }
   ],
   "source": [
    "data.head(2)"
   ]
  },
  {
   "cell_type": "markdown",
   "id": "CdfI-Y6avyiH",
   "metadata": {
    "id": "CdfI-Y6avyiH"
   },
   "source": [
    "## IV. Quan sát dữ liệu"
   ]
  },
  {
   "cell_type": "markdown",
   "id": "eKGZFIbEw5e2",
   "metadata": {
    "id": "eKGZFIbEw5e2"
   },
   "source": [
    "### 1. Thống kê sơ bộ"
   ]
  },
  {
   "cell_type": "markdown",
   "id": "l6P7Y0Pyx9I2",
   "metadata": {
    "id": "l6P7Y0Pyx9I2"
   },
   "source": [
    "#### a. Thuộc tính title "
   ]
  },
  {
   "cell_type": "code",
   "execution_count": 20,
   "id": "blFaIXljyfd8",
   "metadata": {
    "colab": {
     "base_uri": "https://localhost:8080/"
    },
    "executionInfo": {
     "elapsed": 38,
     "status": "ok",
     "timestamp": 1668777794780,
     "user": {
      "displayName": "Bùi Hữu Huấn",
      "userId": "07083814915331675675"
     },
     "user_tz": -420
    },
    "id": "blFaIXljyfd8",
    "outputId": "8974a34a-971f-4004-d0ee-3b6dbaad1c79"
   },
   "outputs": [
    {
     "data": {
      "text/plain": [
       "776"
      ]
     },
     "execution_count": 20,
     "metadata": {},
     "output_type": "execute_result"
    }
   ],
   "source": [
    "len(data.title.unique()) # có ... kiểu tiêu đề đánh giá trong tập dữ liệu ="
   ]
  },
  {
   "cell_type": "code",
   "execution_count": 21,
   "id": "rhUWEpdqy2CJ",
   "metadata": {
    "colab": {
     "base_uri": "https://localhost:8080/"
    },
    "executionInfo": {
     "elapsed": 35,
     "status": "ok",
     "timestamp": 1668777794780,
     "user": {
      "displayName": "Bùi Hữu Huấn",
      "userId": "07083814915331675675"
     },
     "user_tz": -420
    },
    "id": "rhUWEpdqy2CJ",
    "outputId": "ec1505df-dc4d-475f-b8b4-8ab873b99d1c"
   },
   "outputs": [
    {
     "data": {
      "text/plain": [
       "Cực kì hài lòng       31373\n",
       "Hài lòng               3865\n",
       "Bình thường             634\n",
       "Rất không hài lòng      307\n",
       "Không hài lòng          235\n",
       "Name: title, dtype: int64"
      ]
     },
     "execution_count": 21,
     "metadata": {},
     "output_type": "execute_result"
    }
   ],
   "source": [
    "\n",
    "data.title.value_counts().head() # top 5 tiêu đề đánh giá nhiều người lựa chọn "
   ]
  },
  {
   "cell_type": "code",
   "execution_count": 22,
   "id": "xw-CVx0b0PKH",
   "metadata": {
    "colab": {
     "base_uri": "https://localhost:8080/"
    },
    "executionInfo": {
     "elapsed": 33,
     "status": "ok",
     "timestamp": 1668777794781,
     "user": {
      "displayName": "Bùi Hữu Huấn",
      "userId": "07083814915331675675"
     },
     "user_tz": -420
    },
    "id": "xw-CVx0b0PKH",
    "outputId": "e8c9ae7a-e852-4ca1-b208-36895d207b69"
   },
   "outputs": [
    {
     "data": {
      "text/plain": [
       "32"
      ]
     },
     "execution_count": 22,
     "metadata": {},
     "output_type": "execute_result"
    }
   ],
   "source": [
    "title = data.title.dropna()\n",
    "len_title = np.array([len(i.split()) for i in title])\n",
    "len_title.max() # tiêu đề đánh giá dài nhất có 32 từ "
   ]
  },
  {
   "cell_type": "code",
   "execution_count": 23,
   "id": "29i1BSDdyv3b",
   "metadata": {
    "colab": {
     "base_uri": "https://localhost:8080/"
    },
    "executionInfo": {
     "elapsed": 29,
     "status": "ok",
     "timestamp": 1668777794781,
     "user": {
      "displayName": "Bùi Hữu Huấn",
      "userId": "07083814915331675675"
     },
     "user_tz": -420
    },
    "id": "29i1BSDdyv3b",
    "outputId": "bac9618a-84c0-4b41-a08c-5532ab4849a9"
   },
   "outputs": [
    {
     "name": "stdout",
     "output_type": "stream",
     "text": [
      "19642    Cuốn sách có thể giúp các nhà quản lý tạo nên ...\n",
      "Name: title, dtype: object\n"
     ]
    }
   ],
   "source": [
    "print(title[len_title==32])"
   ]
  },
  {
   "cell_type": "markdown",
   "id": "ltYKENbVUwPV",
   "metadata": {
    "id": "ltYKENbVUwPV"
   },
   "source": [
    "#### b. Thuộc tính customer_id"
   ]
  },
  {
   "cell_type": "code",
   "execution_count": 24,
   "id": "ftkNo5J4wEYK",
   "metadata": {
    "colab": {
     "base_uri": "https://localhost:8080/"
    },
    "executionInfo": {
     "elapsed": 28,
     "status": "ok",
     "timestamp": 1668777794782,
     "user": {
      "displayName": "Bùi Hữu Huấn",
      "userId": "07083814915331675675"
     },
     "user_tz": -420
    },
    "id": "ftkNo5J4wEYK",
    "outputId": "e2c58d3b-f7c9-43d9-90b5-c178692a66a1"
   },
   "outputs": [
    {
     "data": {
      "text/plain": [
       "12088578    14\n",
       "22456806     9\n",
       "17506038     8\n",
       "6492212      8\n",
       "10025671     8\n",
       "Name: customer_id, dtype: int64"
      ]
     },
     "execution_count": 24,
     "metadata": {},
     "output_type": "execute_result"
    }
   ],
   "source": [
    "data.customer_id.value_counts().head() # top 5 khách hàng xuất hiện nhiều nhát trong data"
   ]
  },
  {
   "cell_type": "markdown",
   "id": "2w2CmTboU8Zo",
   "metadata": {
    "id": "2w2CmTboU8Zo"
   },
   "source": [
    "#### c. Thuộc tính comment_count"
   ]
  },
  {
   "cell_type": "code",
   "execution_count": 25,
   "id": "1qN1LfVc5AtA",
   "metadata": {
    "colab": {
     "base_uri": "https://localhost:8080/"
    },
    "executionInfo": {
     "elapsed": 26,
     "status": "ok",
     "timestamp": 1668777794783,
     "user": {
      "displayName": "Bùi Hữu Huấn",
      "userId": "07083814915331675675"
     },
     "user_tz": -420
    },
    "id": "1qN1LfVc5AtA",
    "outputId": "44d99fbc-3c91-47f0-bff6-fa233936d57c"
   },
   "outputs": [
    {
     "data": {
      "text/plain": [
       "0     37136\n",
       "1       349\n",
       "2        29\n",
       "3        15\n",
       "5         4\n",
       "4         3\n",
       "6         2\n",
       "7         1\n",
       "16        1\n",
       "Name: comment_count, dtype: int64"
      ]
     },
     "execution_count": 25,
     "metadata": {},
     "output_type": "execute_result"
    }
   ],
   "source": [
    "data.comment_count.value_counts() \n",
    "# đa số mọi người đều không cmt đánh giá\n",
    "# có một khách hàng cmt 6 lần "
   ]
  },
  {
   "cell_type": "markdown",
   "id": "haUkGpa8VGwm",
   "metadata": {
    "id": "haUkGpa8VGwm"
   },
   "source": [
    "#### d. Thuộc tính suggestions"
   ]
  },
  {
   "cell_type": "code",
   "execution_count": 26,
   "id": "Q8FpCqpa9ZB_",
   "metadata": {
    "colab": {
     "base_uri": "https://localhost:8080/",
     "height": 262
    },
    "executionInfo": {
     "elapsed": 860,
     "status": "ok",
     "timestamp": 1668777795619,
     "user": {
      "displayName": "Bùi Hữu Huấn",
      "userId": "07083814915331675675"
     },
     "user_tz": -420
    },
    "id": "Q8FpCqpa9ZB_",
    "outputId": "9d208399-e1ef-4bc4-c0dd-6dbace667621"
   },
   "outputs": [
    {
     "data": {
      "text/html": [
       "<div>\n",
       "<style scoped>\n",
       "    .dataframe tbody tr th:only-of-type {\n",
       "        vertical-align: middle;\n",
       "    }\n",
       "\n",
       "    .dataframe tbody tr th {\n",
       "        vertical-align: top;\n",
       "    }\n",
       "\n",
       "    .dataframe thead th {\n",
       "        text-align: right;\n",
       "    }\n",
       "</style>\n",
       "<table border=\"1\" class=\"dataframe\">\n",
       "  <thead>\n",
       "    <tr style=\"text-align: right;\">\n",
       "      <th></th>\n",
       "      <th>0</th>\n",
       "      <th>1</th>\n",
       "      <th>2</th>\n",
       "      <th>3</th>\n",
       "      <th>4</th>\n",
       "      <th>5</th>\n",
       "    </tr>\n",
       "  </thead>\n",
       "  <tbody>\n",
       "    <tr>\n",
       "      <th>0</th>\n",
       "      <td>Chất lượng tốt</td>\n",
       "      <td></td>\n",
       "      <td>None</td>\n",
       "      <td>None</td>\n",
       "      <td>None</td>\n",
       "      <td>None</td>\n",
       "    </tr>\n",
       "    <tr>\n",
       "      <th>1</th>\n",
       "      <td>Chất lượng tốt</td>\n",
       "      <td>Giao hàng nhanh</td>\n",
       "      <td>Giá tốt</td>\n",
       "      <td>Nhà bán phục vụ tốt</td>\n",
       "      <td>Đóng gói tốt</td>\n",
       "      <td></td>\n",
       "    </tr>\n",
       "    <tr>\n",
       "      <th>2</th>\n",
       "      <td>Chất lượng tốt</td>\n",
       "      <td>Giá tốt</td>\n",
       "      <td></td>\n",
       "      <td>None</td>\n",
       "      <td>None</td>\n",
       "      <td>None</td>\n",
       "    </tr>\n",
       "    <tr>\n",
       "      <th>3</th>\n",
       "      <td>Giao hàng nhanh</td>\n",
       "      <td></td>\n",
       "      <td>None</td>\n",
       "      <td>None</td>\n",
       "      <td>None</td>\n",
       "      <td>None</td>\n",
       "    </tr>\n",
       "    <tr>\n",
       "      <th>4</th>\n",
       "      <td>Chất lượng tốt</td>\n",
       "      <td>Giao hàng nhanh</td>\n",
       "      <td></td>\n",
       "      <td>None</td>\n",
       "      <td>None</td>\n",
       "      <td>None</td>\n",
       "    </tr>\n",
       "  </tbody>\n",
       "</table>\n",
       "</div>"
      ],
      "text/plain": [
       "                 0                1        2                    3  \\\n",
       "0   Chất lượng tốt                      None                 None   \n",
       "1   Chất lượng tốt  Giao hàng nhanh  Giá tốt  Nhà bán phục vụ tốt   \n",
       "2   Chất lượng tốt          Giá tốt                          None   \n",
       "3  Giao hàng nhanh                      None                 None   \n",
       "4   Chất lượng tốt  Giao hàng nhanh                          None   \n",
       "\n",
       "              4     5  \n",
       "0          None  None  \n",
       "1  Đóng gói tốt        \n",
       "2          None  None  \n",
       "3          None  None  \n",
       "4          None  None  "
      ]
     },
     "execution_count": 26,
     "metadata": {},
     "output_type": "execute_result"
    }
   ],
   "source": [
    "a = data.suggestions.dropna().values # lấy cột suggestions đã xóa dữ liệu nan\n",
    "b = tuple(i.split(\" \\n\") for i in a) # chia từ trong cột \n",
    "c = pd.DataFrame(b) # ép kiểu thành DataFrame \n",
    "c.head(5)"
   ]
  },
  {
   "cell_type": "code",
   "execution_count": 27,
   "id": "DGMLUjdPV_eJ",
   "metadata": {
    "colab": {
     "base_uri": "https://localhost:8080/",
     "height": 401
    },
    "executionInfo": {
     "elapsed": 13,
     "status": "ok",
     "timestamp": 1668777795620,
     "user": {
      "displayName": "Bùi Hữu Huấn",
      "userId": "07083814915331675675"
     },
     "user_tz": -420
    },
    "id": "DGMLUjdPV_eJ",
    "outputId": "0c1a49a0-0588-4059-c8b6-b6cc101b4d73"
   },
   "outputs": [
    {
     "name": "stdout",
     "output_type": "stream",
     "text": [
      "['Nhà bán chưa tốt', '', 'Chất lượng tốt', 'Sp không giống mô tả', 'Giá tốt', 'Nhà bán phục vụ tốt', 'Giao hàng nhanh', 'Chất lượng không tốt', None, 'Đóng gói tốt', 'Đóng gói chưa tốt', 'Giao hàng trễ']\n"
     ]
    },
    {
     "data": {
      "text/html": [
       "<div>\n",
       "<style scoped>\n",
       "    .dataframe tbody tr th:only-of-type {\n",
       "        vertical-align: middle;\n",
       "    }\n",
       "\n",
       "    .dataframe tbody tr th {\n",
       "        vertical-align: top;\n",
       "    }\n",
       "\n",
       "    .dataframe thead th {\n",
       "        text-align: right;\n",
       "    }\n",
       "</style>\n",
       "<table border=\"1\" class=\"dataframe\">\n",
       "  <thead>\n",
       "    <tr style=\"text-align: right;\">\n",
       "      <th></th>\n",
       "      <th>bình luận</th>\n",
       "      <th>số lần xuất hiện</th>\n",
       "    </tr>\n",
       "  </thead>\n",
       "  <tbody>\n",
       "    <tr>\n",
       "      <th>0</th>\n",
       "      <td>Nhà bán chưa tốt</td>\n",
       "      <td>1</td>\n",
       "    </tr>\n",
       "    <tr>\n",
       "      <th>1</th>\n",
       "      <td>Chất lượng tốt</td>\n",
       "      <td>6984</td>\n",
       "    </tr>\n",
       "    <tr>\n",
       "      <th>2</th>\n",
       "      <td>Sp không giống mô tả</td>\n",
       "      <td>6</td>\n",
       "    </tr>\n",
       "    <tr>\n",
       "      <th>3</th>\n",
       "      <td>Giá tốt</td>\n",
       "      <td>4160</td>\n",
       "    </tr>\n",
       "    <tr>\n",
       "      <th>4</th>\n",
       "      <td>Nhà bán phục vụ tốt</td>\n",
       "      <td>2857</td>\n",
       "    </tr>\n",
       "    <tr>\n",
       "      <th>5</th>\n",
       "      <td>Giao hàng nhanh</td>\n",
       "      <td>5686</td>\n",
       "    </tr>\n",
       "    <tr>\n",
       "      <th>6</th>\n",
       "      <td>Chất lượng không tốt</td>\n",
       "      <td>7</td>\n",
       "    </tr>\n",
       "    <tr>\n",
       "      <th>7</th>\n",
       "      <td>Đóng gói tốt</td>\n",
       "      <td>4228</td>\n",
       "    </tr>\n",
       "    <tr>\n",
       "      <th>8</th>\n",
       "      <td>Đóng gói chưa tốt</td>\n",
       "      <td>4</td>\n",
       "    </tr>\n",
       "    <tr>\n",
       "      <th>9</th>\n",
       "      <td>Giao hàng trễ</td>\n",
       "      <td>2</td>\n",
       "    </tr>\n",
       "  </tbody>\n",
       "</table>\n",
       "</div>"
      ],
      "text/plain": [
       "              bình luận  số lần xuất hiện\n",
       "0      Nhà bán chưa tốt                 1\n",
       "1        Chất lượng tốt              6984\n",
       "2  Sp không giống mô tả                 6\n",
       "3               Giá tốt              4160\n",
       "4   Nhà bán phục vụ tốt              2857\n",
       "5       Giao hàng nhanh              5686\n",
       "6  Chất lượng không tốt                 7\n",
       "7          Đóng gói tốt              4228\n",
       "8     Đóng gói chưa tốt                 4\n",
       "9         Giao hàng trễ                 2"
      ]
     },
     "execution_count": 27,
     "metadata": {},
     "output_type": "execute_result"
    }
   ],
   "source": [
    "name = np.array([])\n",
    "for i in c:\n",
    "  name = np.append(name,c[i].unique())\n",
    "name = list(set(name))\n",
    "print(name)\n",
    "name.remove('')\n",
    "name.remove(None)\n",
    "giatri = [np.sum( [(c[i]==stri).sum() for i in c] ) for stri in name]\n",
    "pd.DataFrame({\"bình luận\":name,\"số lần xuất hiện\":giatri})"
   ]
  },
  {
   "cell_type": "code",
   "execution_count": 28,
   "id": "7x5SUy3-Arib",
   "metadata": {
    "colab": {
     "base_uri": "https://localhost:8080/",
     "height": 265
    },
    "executionInfo": {
     "elapsed": 9,
     "status": "ok",
     "timestamp": 1668777795620,
     "user": {
      "displayName": "Bùi Hữu Huấn",
      "userId": "07083814915331675675"
     },
     "user_tz": -420
    },
    "id": "7x5SUy3-Arib",
    "outputId": "6a53e8dc-03e0-4833-f15f-8c9ffe1c14cd"
   },
   "outputs": [
    {
     "data": {
      "image/png": "[encoded data removed]",
      "text/plain": [
       "<Figure size 640x480 with 1 Axes>"
      ]
     },
     "metadata": {},
     "output_type": "display_data"
    }
   ],
   "source": [
    "plt.barh(name,giatri)\n",
    "plt.show()"
   ]
  },
  {
   "cell_type": "markdown",
   "id": "Z_QnpVvCyMg7",
   "metadata": {
    "id": "Z_QnpVvCyMg7"
   },
   "source": [
    "#### e. Thuộc tính spid"
   ]
  },
  {
   "cell_type": "code",
   "execution_count": 29,
   "id": "TqqoqCd24aSD",
   "metadata": {
    "colab": {
     "base_uri": "https://localhost:8080/",
     "height": 265
    },
    "executionInfo": {
     "elapsed": 774,
     "status": "ok",
     "timestamp": 1668777796386,
     "user": {
      "displayName": "Bùi Hữu Huấn",
      "userId": "07083814915331675675"
     },
     "user_tz": -420
    },
    "id": "TqqoqCd24aSD",
    "outputId": "51bde620-b1f4-490a-aa92-ec7a08af3cc6"
   },
   "outputs": [
    {
     "data": {
      "image/png": "[encoded data removed]",
      "text/plain": [
       "<Figure size 640x480 with 1 Axes>"
      ]
     },
     "metadata": {},
     "output_type": "display_data"
    }
   ],
   "source": [
    "name = \"Mã sách \" + data.spid.value_counts().head().index.astype(str)\n",
    "giatri = data.spid.value_counts().head().values \n",
    "plt.barh(name,giatri)\n",
    "plt.title(\"Top 5 quyển sách được nhiều người mua nhất\")\n",
    "plt.show()"
   ]
  },
  {
   "cell_type": "code",
   "execution_count": 30,
   "id": "971f6c85",
   "metadata": {},
   "outputs": [
    {
     "name": "stdout",
     "output_type": "stream",
     "text": [
      "['Tiki Trading']\n",
      "['Tiki Trading']\n",
      "['Tiki Trading']\n",
      "['Tiki Trading']\n",
      "['Tiki Trading']\n"
     ]
    }
   ],
   "source": [
    "for i in data.spid.value_counts().head().index: # các cửa hàng bán những mã sách này \n",
    "    print(data.seller[data.spid == i].unique())"
   ]
  },
  {
   "cell_type": "code",
   "execution_count": 31,
   "id": "d540fbf4",
   "metadata": {},
   "outputs": [
    {
     "name": "stdout",
     "output_type": "stream",
     "text": [
      "Mã sách 26114400 được vote sao:\n",
      "5    4706\n",
      "4     643\n",
      "3     133\n",
      "1      48\n",
      "2      28\n",
      "Name: rating, dtype: int64\n",
      "Mã sách 106863965 được vote sao:\n",
      "5    4620\n",
      "4     585\n",
      "3     115\n",
      "1      56\n",
      "2      48\n",
      "Name: rating, dtype: int64\n"
     ]
    }
   ],
   "source": [
    "for i in data.spid.value_counts().head(2).index: # các cửa hàng bán những mã sách này ippo\n",
    "    print(f\"Mã sách {i} được vote sao:\" )\n",
    "    print(data.rating[data.spid == i].value_counts())"
   ]
  },
  {
   "cell_type": "markdown",
   "id": "8ovOW0PnAp3m",
   "metadata": {
    "id": "8ovOW0PnAp3m"
   },
   "source": [
    "#### f. Thuộc tính is_photo"
   ]
  },
  {
   "cell_type": "code",
   "execution_count": 32,
   "id": "iM3yO4lXfCDT",
   "metadata": {
    "colab": {
     "base_uri": "https://localhost:8080/",
     "height": 247
    },
    "executionInfo": {
     "elapsed": 8,
     "status": "ok",
     "timestamp": 1668777796387,
     "user": {
      "displayName": "Bùi Hữu Huấn",
      "userId": "07083814915331675675"
     },
     "user_tz": -420
    },
    "id": "iM3yO4lXfCDT",
    "outputId": "e32b1919-6370-4621-81ee-a279aa339a59"
   },
   "outputs": [
    {
     "data": {
      "image/png": "[encoded data removed]",
      "text/plain": [
       "<Figure size 400x300 with 1 Axes>"
      ]
     },
     "metadata": {},
     "output_type": "display_data"
    }
   ],
   "source": [
    "fig = plt.figure(figsize=(4,3))\n",
    "ax = fig.add_axes([0,0,1,1])\n",
    "ax.axis('equal')\n",
    "langs = data.is_photo.value_counts().index\n",
    "arr = data.is_photo.value_counts().values\n",
    "ax.pie(arr, labels = langs,autopct='%1.2f%%',textprops={'fontsize': 16})\n",
    "plt.show()\n"
   ]
  },
  {
   "cell_type": "markdown",
   "id": "71a3028a",
   "metadata": {},
   "source": [
    "Tiki có thể tăng ưu đãi nếu người mua có các đánh giá đính kèm hình ảnh vào. Khi có thêm hình ảnh thì độ tin cậy của đánh giá được tăng cao và những người dùng chưa mua sản phẩm bao giờ có thể có đánh giá khả quan hơn về sản phẩm của cửa hàng"
   ]
  },
  {
   "cell_type": "markdown",
   "id": "r_GNkZNSkHGv",
   "metadata": {
    "id": "r_GNkZNSkHGv"
   },
   "source": [
    "#### g. Thuộc tính seller"
   ]
  },
  {
   "cell_type": "code",
   "execution_count": 33,
   "id": "sEDxCnPPkOnA",
   "metadata": {
    "colab": {
     "base_uri": "https://localhost:8080/"
    },
    "executionInfo": {
     "elapsed": 7,
     "status": "ok",
     "timestamp": 1668777796387,
     "user": {
      "displayName": "Bùi Hữu Huấn",
      "userId": "07083814915331675675"
     },
     "user_tz": -420
    },
    "id": "sEDxCnPPkOnA",
    "outputId": "43c439d3-4f70-4bc1-a493-cedcfc08536a"
   },
   "outputs": [
    {
     "name": "stdout",
     "output_type": "stream",
     "text": [
      "Top 5 nhà sách xuất hiện nhiều nhất:\n"
     ]
    },
    {
     "data": {
      "text/plain": [
       "Tiki Trading         31968\n",
       "Nhà sách Fahasa       2140\n",
       "AHABOOKS               926\n",
       "Phương Đông Books      790\n",
       "Vadata                 532\n",
       "Name: seller, dtype: int64"
      ]
     },
     "execution_count": 33,
     "metadata": {},
     "output_type": "execute_result"
    }
   ],
   "source": [
    "print(\"Top 5 nhà sách xuất hiện nhiều nhất:\")\n",
    "data.seller.value_counts().head()"
   ]
  },
  {
   "cell_type": "code",
   "execution_count": 34,
   "id": "XOeTFWSXl45Q",
   "metadata": {
    "colab": {
     "base_uri": "https://localhost:8080/",
     "height": 265
    },
    "executionInfo": {
     "elapsed": 729,
     "status": "ok",
     "timestamp": 1668777797111,
     "user": {
      "displayName": "Bùi Hữu Huấn",
      "userId": "07083814915331675675"
     },
     "user_tz": -420
    },
    "id": "XOeTFWSXl45Q",
    "outputId": "253c0be4-f8ec-4055-cbd7-129161f87ae9"
   },
   "outputs": [
    {
     "data": {
      "image/png": "[encoded data removed]",
      "text/plain": [
       "<Figure size 640x480 with 1 Axes>"
      ]
     },
     "metadata": {},
     "output_type": "display_data"
    }
   ],
   "source": [
    "a = data.rating.loc[data.seller == 'Tiki Trading'] #lấy vote sao của cửa hàng Tiki Trading\n",
    "name = a.value_counts().index.astype(str) + ' sao'\n",
    "giatri = a.value_counts().values\n",
    "plt.barh(name,giatri)\n",
    "plt.show()"
   ]
  },
  {
   "cell_type": "markdown",
   "id": "MwCSLA66qZ8u",
   "metadata": {
    "id": "MwCSLA66qZ8u"
   },
   "source": [
    "#### h.Thuộc tính product_id"
   ]
  },
  {
   "cell_type": "code",
   "execution_count": 35,
   "id": "vvrmtVqvrSJR",
   "metadata": {
    "colab": {
     "base_uri": "https://localhost:8080/"
    },
    "executionInfo": {
     "elapsed": 18,
     "status": "ok",
     "timestamp": 1668777797112,
     "user": {
      "displayName": "Bùi Hữu Huấn",
      "userId": "07083814915331675675"
     },
     "user_tz": -420
    },
    "id": "vvrmtVqvrSJR",
    "outputId": "c6bc5421-398c-400b-afd8-403a717769d4"
   },
   "outputs": [
    {
     "data": {
      "text/plain": [
       "106863963    6183\n",
       "26114399     5649\n",
       "480040       4123\n",
       "42230121     2890\n",
       "69764541     2297\n",
       "Name: product_id, dtype: int64"
      ]
     },
     "execution_count": 35,
     "metadata": {},
     "output_type": "execute_result"
    }
   ],
   "source": [
    "data.product_id.value_counts().head() # top 5 id quyển sách đc khách hàng mua nhiều nhất "
   ]
  },
  {
   "cell_type": "markdown",
   "id": "0643b8f2",
   "metadata": {},
   "source": [
    "•\tTrong thuộc tính customer_id – từ top những khách hàng có nhiều đánh giá nhất mà tìm hiểu xem có là các khách hàng ảo mà shop dùng để tăng đánh giá tốt hay là các khách hàng tiềm năng hay tương tác, mua hàng trên tiki\n",
    "\n",
    "•\tTrong thuộc tính product_id – từ 5 sản phẩm có nhiều người đánh giá nhất mà có thể thêm vào mục trong tìm kiếm ( Đề xuất cho người mua các sản phẩm này)\n"
   ]
  },
  {
   "cell_type": "markdown",
   "id": "41Znpd9MrsrI",
   "metadata": {
    "id": "41Znpd9MrsrI"
   },
   "source": [
    "#### i.Thuộc tính timeline_convert"
   ]
  },
  {
   "cell_type": "code",
   "execution_count": 36,
   "id": "-dlZ1FBvroEx",
   "metadata": {
    "colab": {
     "base_uri": "https://localhost:8080/"
    },
    "executionInfo": {
     "elapsed": 14,
     "status": "ok",
     "timestamp": 1668777797112,
     "user": {
      "displayName": "Bùi Hữu Huấn",
      "userId": "07083814915331675675"
     },
     "user_tz": -420
    },
    "id": "-dlZ1FBvroEx",
    "outputId": "5cfdbc90-c194-4b25-f9f9-bcdb94dc774e"
   },
   "outputs": [
    {
     "data": {
      "text/plain": [
       "52560.0"
      ]
     },
     "execution_count": 36,
     "metadata": {},
     "output_type": "execute_result"
    }
   ],
   "source": [
    "data.timeline_convert.max() # thời gian đánh giá sản phẩm muộn nhất (giờ)"
   ]
  },
  {
   "cell_type": "code",
   "execution_count": 37,
   "id": "hRNvLotqsRhI",
   "metadata": {
    "colab": {
     "base_uri": "https://localhost:8080/"
    },
    "executionInfo": {
     "elapsed": 9,
     "status": "ok",
     "timestamp": 1668777797113,
     "user": {
      "displayName": "Bùi Hữu Huấn",
      "userId": "07083814915331675675"
     },
     "user_tz": -420
    },
    "id": "hRNvLotqsRhI",
    "outputId": "d04c3d74-3986-4ff2-8e12-418ac187d632"
   },
   "outputs": [
    {
     "data": {
      "text/plain": [
       "0.011"
      ]
     },
     "execution_count": 37,
     "metadata": {},
     "output_type": "execute_result"
    }
   ],
   "source": [
    "data.timeline_convert.min() # thời gian đánh giá sản phẩm sớm nhất (giờ)"
   ]
  },
  {
   "cell_type": "code",
   "execution_count": 38,
   "id": "LxeUJykxtBj1",
   "metadata": {
    "colab": {
     "base_uri": "https://localhost:8080/",
     "height": 265
    },
    "executionInfo": {
     "elapsed": 6,
     "status": "ok",
     "timestamp": 1668777797113,
     "user": {
      "displayName": "Bùi Hữu Huấn",
      "userId": "07083814915331675675"
     },
     "user_tz": -420
    },
    "id": "LxeUJykxtBj1",
    "outputId": "617c0211-d7e5-4bfd-9d53-a76afb2f0cd6"
   },
   "outputs": [
    {
     "data": {
      "image/png": "[encoded data removed]",
      "text/plain": [
       "<Figure size 640x480 with 1 Axes>"
      ]
     },
     "metadata": {},
     "output_type": "display_data"
    }
   ],
   "source": [
    "plt.plot(data.timeline_convert)\n",
    "plt.show()"
   ]
  },
  {
   "cell_type": "markdown",
   "id": "581dd6e0",
   "metadata": {},
   "source": [
    "•\tĐa số các khách hàng đều đánh giá ngay sau khi mua hàng \n"
   ]
  },
  {
   "cell_type": "markdown",
   "id": "iffYDU0LujnH",
   "metadata": {
    "id": "iffYDU0LujnH"
   },
   "source": [
    "### 2. Thống kê 2 thuộc tính sử dụng fit model là content và rating"
   ]
  },
  {
   "cell_type": "code",
   "execution_count": 39,
   "id": "r9xqia00wiWB",
   "metadata": {
    "colab": {
     "base_uri": "https://localhost:8080/"
    },
    "executionInfo": {
     "elapsed": 688,
     "status": "ok",
     "timestamp": 1668777797796,
     "user": {
      "displayName": "Bùi Hữu Huấn",
      "userId": "07083814915331675675"
     },
     "user_tz": -420
    },
    "id": "r9xqia00wiWB",
    "outputId": "35e38b0b-9c95-42d3-d44e-3e6d88501ab5"
   },
   "outputs": [
    {
     "data": {
      "text/plain": [
       "(13875, 2)"
      ]
     },
     "execution_count": 39,
     "metadata": {},
     "output_type": "execute_result"
    }
   ],
   "source": [
    "data_training = data.loc[data.content.isnull()==False][['content','rating']]\n",
    "data_training.shape"
   ]
  },
  {
   "cell_type": "code",
   "execution_count": 40,
   "id": "32125fd2",
   "metadata": {},
   "outputs": [
    {
     "data": {
      "text/plain": [
       "'Hi How is your and Have a nice weekend'"
      ]
     },
     "execution_count": 40,
     "metadata": {},
     "output_type": "execute_result"
    }
   ],
   "source": [
    "def give_emoji_free_text(text):\n",
    "    allchars = [str for str in text.encode().decode('utf-8')]\n",
    "    emoji_list = [c for c in allchars if c in emoji.EMOJI_DATA]\n",
    "    clean_text = ' '.join([str for str in text.encode().decode('utf-8').split() if not any(i in str for i in emoji_list)])\n",
    "    return clean_text\n",
    "a = \"Hi 🤔 How is your 🙈 and 😌. Have a nice weekend 💕👭👙\"\n",
    "give_emoji_free_text(a)"
   ]
  },
  {
   "cell_type": "code",
   "execution_count": 41,
   "id": "aa54f73e",
   "metadata": {},
   "outputs": [],
   "source": [
    "for i,j in data_training.iterrows():\n",
    "    data_training.content.at[i] = give_emoji_free_text(data_training.content[i])"
   ]
  },
  {
   "cell_type": "code",
   "execution_count": 42,
   "id": "9582e0fc",
   "metadata": {},
   "outputs": [
    {
     "data": {
      "text/plain": [
       "content    0\n",
       "rating     0\n",
       "dtype: int64"
      ]
     },
     "execution_count": 42,
     "metadata": {},
     "output_type": "execute_result"
    }
   ],
   "source": [
    "data_training.isnull().sum()"
   ]
  },
  {
   "cell_type": "code",
   "execution_count": 43,
   "id": "67e9b788",
   "metadata": {},
   "outputs": [
    {
     "data": {
      "text/plain": [
       "(13875, 2)"
      ]
     },
     "execution_count": 43,
     "metadata": {},
     "output_type": "execute_result"
    }
   ],
   "source": [
    "data_training.to_csv(\"./data.csv\", index= False,encoding='utf-8-sig') # tạo ra file data để fit model \n",
    "pd.read_csv(\"./data.csv\").shape"
   ]
  },
  {
   "cell_type": "code",
   "execution_count": 44,
   "id": "47bcbdd9",
   "metadata": {
    "colab": {
     "base_uri": "https://localhost:8080/"
    },
    "executionInfo": {
     "elapsed": 7,
     "status": "ok",
     "timestamp": 1668777797796,
     "user": {
      "displayName": "Bùi Hữu Huấn",
      "userId": "07083814915331675675"
     },
     "user_tz": -420
    },
    "id": "47bcbdd9",
    "outputId": "7bf42c81-b116-42b8-a286-23bd67600b16"
   },
   "outputs": [
    {
     "name": "stdout",
     "output_type": "stream",
     "text": [
      "Trung bình mỗi người cmt khoảng 15.609369 từ\n",
      "50% cmt có số từ nhỏ hơn bằng  8\n"
     ]
    }
   ],
   "source": [
    "contentt = data_training['content']\n",
    "len_cmt = np.array([len(i.split()) for i in contentt])\n",
    "print(f\"Trung bình mỗi người cmt khoảng {np.mean(len_cmt):f} từ\")\n",
    "print(\"50% cmt có số từ nhỏ hơn bằng \",int(np.median(len_cmt)))"
   ]
  },
  {
   "cell_type": "code",
   "execution_count": 45,
   "id": "490f4ad6",
   "metadata": {
    "colab": {
     "base_uri": "https://localhost:8080/",
     "height": 279
    },
    "executionInfo": {
     "elapsed": 5,
     "status": "ok",
     "timestamp": 1668777797797,
     "user": {
      "displayName": "Bùi Hữu Huấn",
      "userId": "07083814915331675675"
     },
     "user_tz": -420
    },
    "id": "490f4ad6",
    "outputId": "bd2fe1f3-637c-4b6f-a7c5-2ed7b71668ef"
   },
   "outputs": [
    {
     "data": {
      "image/png": "[encoded data removed]",
      "text/plain": [
       "<Figure size 640x480 with 1 Axes>"
      ]
     },
     "metadata": {},
     "output_type": "display_data"
    }
   ],
   "source": [
    "plt.xlim(0,len_cmt.size)\n",
    "plt.ylim(len_cmt.min(), len_cmt.max())\n",
    "plt.xlabel('content', fontsize=10)\n",
    "plt.ylabel('độ dài content', fontsize=10)\n",
    "plt.plot(len_cmt)\n",
    "plt.show()"
   ]
  },
  {
   "cell_type": "code",
   "execution_count": 46,
   "id": "d04a6f66",
   "metadata": {
    "colab": {
     "base_uri": "https://localhost:8080/"
    },
    "executionInfo": {
     "elapsed": 649,
     "status": "ok",
     "timestamp": 1668777798442,
     "user": {
      "displayName": "Bùi Hữu Huấn",
      "userId": "07083814915331675675"
     },
     "user_tz": -420
    },
    "id": "d04a6f66",
    "outputId": "aa6402a2-4d64-488c-c609-c4d43d6e9335"
   },
   "outputs": [
    {
     "name": "stdout",
     "output_type": "stream",
     "text": [
      "mọi thứ đều rất ổn shipper nhanh nhẹn, đến sớm hơn dự định sách còn nguyên bọc, thơm, lật ra bên trong đều ok hết. ko vấn đề gì chỉ trừ duy nhất phần bìa gáy sách bị lõm 1 chỗ khá sâu, ko thương tiếc :'( ảnh hưởng tới giấy bên trong 1 chút nhưng ko đáng kể chỉ buồn là trông sách nhìn vào ko đẹp nguyên vẹn thôi ---ĐÁNH GIÁ 3 SAO.\n",
      "\n",
      "sản phẩm khổ bé tuy nhiên rõ nét, ship giao hàng cẩn thận ---ĐÁNH GIÁ 4 SAO.\n",
      "\n",
      "5 sao cho shipper giao nhanh nhưng 2 sao cho shop là cách gói hàng quá sơ sài làm góc sách bị gãy nên mong shop hoàn thiện cách gói lại ạ ---ĐÁNH GIÁ 2 SAO.\n",
      "\n",
      "sách xấu bảo quản không kỹ ship bị nhăn hết sách gáy sách nhăn nheo khi chưa làm gì ---ĐÁNH GIÁ 2 SAO.\n",
      "\n",
      "1 sao vì dịch vụ shiper kém, rất nhiều lần bọc carton bị rách, xé toang hoác, nhà vận chuyển ko tôn trọng khách hàng. shiper ko có tâm. chất lượng đóng gói và vận chuyển quá cẩu thả. ---ĐÁNH GIÁ 1 SAO.\n",
      "\n",
      "giao hàng nhanh hoen dự kiến 2 ngày, chị shipper rất rất thân thiện lun. sách giảm giá nhưng còn mới, phẳng. tuy nhiên nếu nhìn kĩ thì hơi bẩn một tia xíu thoii. tóm lại là rất hài lòng ah ---ĐÁNH GIÁ 4 SAO.\n",
      "\n",
      "giao nhanh, tuy nhiên sách móp xíu, lần sau ship nhớ bọc thêm nhé ---ĐÁNH GIÁ 4 SAO.\n",
      "\n",
      "vừa mới nhận hàng xong ạ, viết đánh giá cho shipper chứ chưa nói đến sách. anh shipper mất kiên nhẫn quá ạ, không biết hôm nay có gì là anh quạu cơ mà dịch vụ shipper bất ổn quá :)). vẫn đánh giá 4sao vì kh muốn ảnh hưởng tới đánh giá của sách ---ĐÁNH GIÁ 4 SAO.\n",
      "\n",
      "shipper thân thiện lắm ạ. đóng gói hàng cẩn thận nhưng vẫn xu bị trầy góc ạ ---ĐÁNH GIÁ 4 SAO.\n",
      "\n",
      "shipper có gọi giao hàng, nhưng hôm đó mình bận không nhận được nên hẹn hôm sau. sau đó mình đợi hoài và không thấy tin tức gì hết. ---ĐÁNH GIÁ 1 SAO.\n",
      "\n",
      "ship muộn sách ok cho 4 sao ---ĐÁNH GIÁ 4 SAO.\n",
      "\n",
      "ship nhận về hộp nát, ko có chống sốc chỉ có một ít giấy để xung quanh, may mà sách ko sao chỉ bị sứt nhẹ ---ĐÁNH GIÁ 4 SAO.\n",
      "\n",
      "shipper giao hàng đến nơi nhưng không gọi cho mình mà giao trực tiếp cho người ở địa chỉ đến và thu tiền người tại địa chỉ. rất tệ vì lỡ người tại địa chỉ nhận họ lấy mất hàng thì sao. hoặc lỡ kẻ gian biết, order bậy để ăn tiền thì sao. rất tệ luôn ---ĐÁNH GIÁ 2 SAO.\n",
      "\n",
      "shiper quá khó ưa, tháy độ với khách hàng không tốt ---ĐÁNH GIÁ 1 SAO.\n",
      "\n",
      "shipper tính cục quá còn sản phẩm thì oki nha ---ĐÁNH GIÁ 2 SAO.\n",
      "\n",
      "shipper thái độ kém, phát hàng sai qui định, bắt khách tự đi nhận hàng ---ĐÁNH GIÁ 1 SAO.\n",
      "\n",
      "shipper thái độ, chửi khách, tội bận việc không nghe máy được, lúc sau anh ta gọi lại chửi tôi, lúc xuống nhận hàng lại cũng chửi tôi lần nữa. lần đầu tiên tôi mua hàng online mà gặp shipper thể loại này ---ĐÁNH GIÁ 1 SAO.\n",
      "\n",
      "ship hơiii lâu, đóng sách cũng ko cẩn thận :((( khá thất vọng với tiki :(( ---ĐÁNH GIÁ 3 SAO.\n",
      "\n",
      "hàng ngon đẹp , oke săn đc giá 45k ngon . chán ông shiper giao đúng lúc thăng hoa trong toilet nên trừ 1 sao ---ĐÁNH GIÁ 4 SAO.\n",
      "\n",
      "sách chất lượng tốt, đẹp, mọi thứ đều ok ngoại trừ shipper ---ĐÁNH GIÁ 1 SAO.\n",
      "\n",
      "mình đã nhận được sách ạ sách mới k quăn cảm ơn ship nhiều ạ ---ĐÁNH GIÁ 4 SAO.\n",
      "\n",
      "sách hay nhưng lúc nhận hàng móp góc rất nhiều, shipper gọi nhận hàng lúc đang ia ---ĐÁNH GIÁ 3 SAO.\n",
      "\n",
      "chán tiki khoản gói đồ và ship hàng lắm luôn ấy ??? làm ơn có thể cho thứ gì đó giảm xóc và gói sách an toàn hơn được kh ạ ?? bỏ tiền ra thì đương nhiên phải muốn sách của mình nguyên vẹn đẹp đẽ chứ ạ ---ĐÁNH GIÁ 3 SAO.\n",
      "\n",
      "sách hay lắm, mỗi tội hơi nhỏ và thêm phí ship hơi đắt :)) ---ĐÁNH GIÁ 2 SAO.\n",
      "\n",
      "đã thanh toán toàn bộ qua zalo pay, nhưng shipper vẫn thu 10.000 tiền ship ---ĐÁNH GIÁ 1 SAO.\n",
      "\n",
      "trừ 2 sao vì shiper kh giao hàng tới địa chỉ mà bắt đi tận 7km để lấy hàng ---ĐÁNH GIÁ 3 SAO.\n",
      "\n",
      "sản phẩm tốt ship rất nhanh ---ĐÁNH GIÁ 1 SAO.\n",
      "\n",
      "chất lượng sách rất tốt chú shipper cực kì tốt bụng chỉ hơi thắc mắc sao sách này không có thẻ đánh số trang thôi ---ĐÁNH GIÁ 4 SAO.\n",
      "\n",
      "vẫn là cmt quen thuộc. tiki giao hàng nhanh, shipper thân thiện nhưng không lần nào có bọc chống xóc cả, h thì móp cả gáy:)) ---ĐÁNH GIÁ 4 SAO.\n",
      "\n",
      "sách bọc không đc kĩ được mỗi cái là ship nhanh ---ĐÁNH GIÁ 3 SAO.\n",
      "\n",
      "sách đẹp nhưng đóng gói cẩu thả quá, shipper đi giao gặp trời mưa, ẩm, cong hết sách rồi. ---ĐÁNH GIÁ 3 SAO.\n",
      "\n",
      "hàng thì ok!! nhưng anh shipper có vẻ đến tháng::)) ---ĐÁNH GIÁ 3 SAO.\n",
      "\n",
      "sách không seal ship hàng không bọc chống sốc ---ĐÁNH GIÁ 1 SAO.\n",
      "\n",
      "mọi thứ đều ok ,shipper lịch sự nhưng do bao bì mà bìa sánh bị trục trăc nói tóm lại vẫn rất ok ---ĐÁNH GIÁ 4 SAO.\n",
      "\n",
      "giao hàng nhanh anh shipper dễ thương ---ĐÁNH GIÁ 4 SAO.\n",
      "\n",
      "hàng chất lượng 5*, shipper thái độ 1*:)) ---ĐÁNH GIÁ 3 SAO.\n",
      "\n",
      "giao hàng rất nhanh, shipper thân thiện. trừ 1 sao vì đóng gói sách ko bọc lớp chống sốc, chỉ cho mỗi cuốn sách vào hộp. sách hơi bụi bìa, còn lại ổn. nên mua. mong đóng gói cẩn thận hơn. ---ĐÁNH GIÁ 4 SAO.\n",
      "\n",
      "giá sách cao, ko free ship, giao hàng quá chậm sau 10 ngày mặc dù ở trung tâm. nói chung lần sau k mua sách ở đây nữa ---ĐÁNH GIÁ 3 SAO.\n",
      "\n",
      "thật sự khá là bất ngờ về time ship hàng lần này của tiki, ko phải bất ngờ vì ship hàng nhanh mà là bất ngờ vì khá chậm đặt từ t7 đến t4 mới có hàng! về chất lượng thì rất ok! ---ĐÁNH GIÁ 4 SAO.\n",
      "\n",
      "về nội dung thì khỏi bàn rồi, sách rất hay ~ nhưng mà chất liệu giấy thì không ổn cho lắm! bìa của mình còn bị trầy xước, giấy chẳng mịn... may mà ghn, shipper đtrai nên mình sẽ tha thứ :v ahihi ^^ ---ĐÁNH GIÁ 4 SAO.\n",
      "\n",
      "k hiểu sao sách chưa về mà đã thấy giao hàng thành công từ hôm qua rồi. do lỗi của tiki hay của shipper đây. chán hẳn ---ĐÁNH GIÁ 1 SAO.\n",
      "\n",
      "sách bên ngoài xước rất nhiều shipper thì không nhiệt ---ĐÁNH GIÁ 3 SAO.\n",
      "\n",
      "sách khá cũ và bị xước nhiều nhưng ship nhanh shiper thân thiện , không bọc giấy bóng , có kèm bookmark ---ĐÁNH GIÁ 4 SAO.\n",
      "\n",
      "đầu tiên phải có lời khen với đơn vị vận chuyển \"giaohangnhanh\"! càng ngày chất lượng và tốc độ giao hàng càng đc nâng cao, mình ở quảng ninh, đặt hàng tối thứ 4, web thông báo dự kiến thứ 7 mới nhận đc hàng nhưng rất bất ngờ là đến thứ 6 là mình đã cầm sách trên tay rồi! thêm với việc tiki giảm giá sách và freeship nữa là quá tuyệt vời. tiki và giaohangnhanh hợp tác là đúng chuẩn! còn về cuốn sách \"đắc nhân tâm\" thì quá nổi tiếng rồi! cũng do quá nổi tiếng nên mình nghĩ nhiều bạn mua sách là do tâm lý đám đông chứ cũng chưa thực sự có ý thức về nội dung sách muốn truyền đạt. cuốn sách cho chúng ta biết các nguyên tắc hết sức đơn giản trong đối nhân xử thế mà khi đọc ta có thể sẽ ngỡ ngàng vì sự đơn giản của chúng. chính vì thế nên mình nghĩ các bạn nên đọc theo các khuyến nghị của tác giả ở đầu sách sẽ giúp tiếp thu kiến thức tốt hơn! chúc các bạn đọc sách vui vẻ! ---ĐÁNH GIÁ 4 SAO.\n",
      "\n",
      "bìa sách hơi cũ nhưng sách dị cũng ok rồi giao hàng nhanh shipper đc ok ---ĐÁNH GIÁ 4 SAO.\n",
      "\n",
      "quyển sách này nội dung hay nhưng nó quá khiên cưỡng. vì là những quy tắc ứng xử trong cuộc sống nên mình thấy hơi khô khan, nhưng nó vẫn là quyển sách tốt rất đáng bỏ tiền mua tiki giao hàng rất tốt dịch vụ chuyên nghiệp, shipper cũng dễ thương ủng hộ tiki ---ĐÁNH GIÁ 4 SAO.\n",
      "\n",
      "là cuốn sách hay nhất mà mình đã đọc. thắm, bổ ích, rất đáng đọc. nếu áp dụng nhuần nhuyễn điều hay trong cuốn sách này, mình tin cuộc đời mỗi người sẽ thay đổi tươi sáng hơn. khuyên các bạn nên đọc. về phần tiki, luôn luôn có nhiều chương trình giảm giá, giao hàng nhanh, gói kỹ, đặc biệt, khi mình mua 2-3 cuốn mà đc freeship về tỉnh. thích lắm. mong tiki duy trì và hoàn thiện thêm nữa :) ---ĐÁNH GIÁ 4 SAO.\n",
      "\n",
      "chắc do khi ship bị va đập thôi nhưng vẫn không hài lòng lắm ---ĐÁNH GIÁ 2 SAO.\n",
      "\n",
      "sách ổn! shipper dễ thương thân thiện! ---ĐÁNH GIÁ 4 SAO.\n",
      "\n",
      "sách bị gập bìa.nên đóng gói cẩn thận để sách nguyên vẹn hơn.mình đặt mua tặng quà sinh nhật,sách bị vậy hơi buồn.ship chậm,vẫn cho 4 sao nha ---ĐÁNH GIÁ 4 SAO.\n",
      "\n",
      "sách bị bẩn ở mặt sau, có lẽ là do quá trình bọc bookcare. mình chưa đọc nên chưa thể nhận xét gì về nội dung. nhưng chị shipper đùa dai, bù cho mình tờ tiền rách, buồn quá nên cho một sao thôi :(( ---ĐÁNH GIÁ 1 SAO.\n",
      "\n",
      "sách cầm nhẹ, nhìn dày chứ rất nhỏ gọn. phía sau sách bị in mấy cái vân tay đen đen cũng may là chùi ra. giấy không được đẹp, hình như là giấy tái chế, cá nhân mình không thích loại giấy này. ship đợt này hơi lâu nhưng đúng với dự kiến. ---ĐÁNH GIÁ 4 SAO.\n",
      "\n",
      "tôi vừa nhận sách minh triết trong ăn uống và cuốn sách bong hết giấy trang trong ra. tôi rất thất vọng vì tốn hơn 120k chỉ để nhận 1 cuốn sách bị rách nát. và chờ hơn 5 tiếng và phải trả 29k ship nhanh 2 tiếng của tiki :) nếu chụp đc hình cuốn sách tôi sẽ gửi cho các người. làm ăn kiểu gì vậy???? ---ĐÁNH GIÁ 1 SAO.\n",
      "\n",
      "giao hàng nhanh dã man, mới đặt hôm qua mà nay đã thấy ship đến r. chất lượng sách ok. dg km nên giá rẻ. sách có bọc nilong nên mình k thích lắm, thấy nhiều đồ nhựa quá ---ĐÁNH GIÁ 4 SAO.\n",
      "\n",
      "thấy mấy bạn review là sách k đảm bảo nên mình cũng hơi ghê. nhưng may sao mình mua 2 quyển đều tinh tươm. có dấu tay đen 1 xíu thôi nhưng nói chung là hài lòng. chưa kể tiki giao hàng nhanh như 1 cơn gió. tối muộn mới đăt mà 9h sáng hôm sau đã ship đến nơi ---ĐÁNH GIÁ 4 SAO.\n",
      "\n",
      "oan ức ship ống nhòm dư nợ đền thờ sự kiện oàm cóc sức lực ---ĐÁNH GIÁ 3 SAO.\n",
      "\n",
      "không có bao sách và gói sách sơ sài nên khá thất vọng. bề ngoài thì sách vẫn xinh xắn nên 3*. cũng may là anh shipper ảnh trùm đồ kín chứ không kiện đồ của tui mà ướt mưa cái là không còn cuốn sách nào sài được luôn. ---ĐÁNH GIÁ 3 SAO.\n",
      "\n",
      "sách rất đẹp, giao hàng rất nhanh nha, đặt hôm trước hôm sau có luôn, shipper nhiệt tình, tuy nhiên bookcard hơi mỏng ---ĐÁNH GIÁ 4 SAO.\n",
      "\n",
      "lần đầu mình mua hàng ở tiki, đóng gói kỹ càng, giao hàng cũng khá nhanh, shipper thân thiện, đáng lẽ đánh giá 5 sao, nhưng do sách hơi bị trầy xước tý nên mình chỉ cho 4 sao... ---ĐÁNH GIÁ 4 SAO.\n",
      "\n",
      "giao hàng rất nhanh, giá ship siêu rẻ. sách nhận rất mới, bìa đơn giản, in màu vàng nhạt rõ, đẹp, mịn. tuy nhiên chất liệu giấy bên trong hơi mỏng. màu mực đen in hơi lem nhưng k đáng kể. nội dung hay, đôi khi có vài chỗ dịch các cụm từ chuyên ngành hơi rối rắm, dài dòng 1 chút. ---ĐÁNH GIÁ 4 SAO.\n",
      "\n",
      "sách đẹp ndung nhẹ nhàng nhưng chưa thực sự sát với thực tế đặc biệt thái độ shipper rất tệ cô ấy ném hộp cho mình kiểu cầm đi rồi nói \"tiền đâu\" mk rất ức chế ---ĐÁNH GIÁ 4 SAO.\n",
      "\n",
      "tiki làm ơn đừng để bên vận chuyển jnt giao hàng cho khách. shipper thái độ lồi lõm, quát tháo khách, tìm không ra nhà để giao thì đổ lỗi cho mình để địa chỉ k đúng, cãi nhau tay đôi với mình trong khi đó rất nhiều các shipper bên vận chuyển khác vẫn giao bình thường. quá tệ 1 sao ---ĐÁNH GIÁ 1 SAO.\n",
      "\n",
      "mọi lần mk mua sách ở tiki sách đẹp mới nguyên đóng hôp đẹp vi tin tưởng nên mới đặt lần này đặt shop toàn ship về cho sách cũ ,đã cos nếp mở ra ở góc sách. hơi thất vọng về shop ---ĐÁNH GIÁ 3 SAO.\n",
      "\n",
      "bị móp méo trong quá trình vận chuyển chỉ bao mỗi 1 miếng bìa kính mỏng để bảo vệ sách, ko chắc chắn nhưng ship nhanh nên cũng tạm đc ---ĐÁNH GIÁ 3 SAO.\n",
      "\n",
      "đóng gói cẩn thận, nội dung tạo được cảm hứng để rèn tâm. tuy nhiên chất lượng giấy ở mức tạm và shiper không cập nhật đúng địa chỉ giao hàng nên chờ nhận hàng lâu. ---ĐÁNH GIÁ 4 SAO.\n",
      "\n",
      "sách hay, nhìn bìa đẹp là thích rồi, giao hàng nhanh, shipper thân thiện, mình rất thích mua hàng trên tiki ---ĐÁNH GIÁ 4 SAO.\n",
      "\n",
      "sãhs hơi mỏng so với kình nghĩ, ship chậm hơn 1 ngày dự kiến , nội dung chưa đọc nma trình bày trong sách ko rườm rà, ---ĐÁNH GIÁ 4 SAO.\n",
      "\n",
      "sách chất lượng tốt, mọi thứ đều ổn ngoại trừ shipper ---ĐÁNH GIÁ 1 SAO.\n",
      "\n",
      "sách không có vấn đề gì nhưng giao hàng lâu thật sự. tính đánh giá 1* nhưng shipper thân thiện nên mình cho lên 3* ---ĐÁNH GIÁ 3 SAO.\n",
      "\n",
      "như ship cho sách cũ zay =))). còn có 1 vết mốc bên trong ---ĐÁNH GIÁ 4 SAO.\n",
      "\n",
      "sách bị nhàu với bị móp méo hết. mua 4 cuốn ko cuốn nào lành lặn, góc của sách thì nhăn rất nhiều. với lại còn bị bám rất nhiều bụicòn ship thì kêu tôi tự đến chỗ shop gửi hàng đến để tự lấy sách. với lại mua sách bình thường sẽ có giấy đánh dấu trang mà 4 cuốn đc mỗi 1 cuốn. shop đóng gói sách rất ẩu và ko có màng chống bụi. nói chung thì mua sách lần này thất vọng nhiều. mọi người rút kinh nghiệm kiểm tra sách kĩ ---ĐÁNH GIÁ 1 SAO.\n",
      "\n",
      "cảm thấy rất buồn lần đầu tien mua sách ở tiki đóng gói khá sơ sài thường thì mua sách sẽ nguyên seal đằng này thì không lúc mở ra là thấy k ổn rồi xong kiểm tra 4 góc của sách thì tróc này mua sale nên đành chấp nhận, định cho 1* mà thấy tội shipper nên cho 3* ---ĐÁNH GIÁ 3 SAO.\n",
      "\n",
      "sách bị nhăn và bị rách, mình mới nhìn lướt qua mà đã vậy rồi. đóng gói không bọc chống sốc. tiki và vtp nếu có hợp tác thì cũng thu chung 1 tiền ship thôi, mình vừa phải trả tiền ship trên tiki vừa phải trả ở vtp. ấn tượng đầu tiên của mình thì sách được bọc seal và giao hàng nhanh, những thứ khác thì khá tệ ạ ---ĐÁNH GIÁ 3 SAO.\n",
      "\n",
      "sách có mấy đốm vàng vàng chùi ko ra đóng gói sơ sài lòi cả sách shiper cố ý chạm vào ngực mình ---ĐÁNH GIÁ 2 SAO.\n",
      "\n",
      "vì tình hình dịch bệnh nên gần 2 tháng mới nhận được sách. tuy nhiên sách lại bị rách mặt sau thế này. shipper giao vào giờ trưa lúc mình đang ăn cơm nên không thể nghe máy vậy mà tỏ thái độ cực kì tệ ---ĐÁNH GIÁ 3 SAO.\n",
      "\n",
      "đánh giá vì chất lượng quá tệ, mình không có nhu cầu đổi trả nhưng thấy bao nhiêu năm rồi khâu gói hàng của tiki vẫn không thay đổi và vẫn tệ như ngày nào. vậy không hiểu bày ra mục đánh giá này để làm gì, bao nhiêu góp ý có chịu lắng nghe hay không. nếu cũng là mua trên tiki nhưng từ nhà sách khac như fahasa chẳng hạn, thì đã chẳng có chuyện sách bị cấn móp như thế này. bọc 1 lớp xốp bong bóng/giấy xốp bộ khó đến vậy sao. nhận hàng mà nhìn thùng carton bung bét là hình dung ra đc chất lượng bên trong rồi. mình nhấn mạnh là lỗi do tiki gói hàng lỏng lẻo không chỉnh chu, rất cẩu thả chứ không phải do shipper. ship rất nhiệt tình dễ thương, là dàng cho nhà ship chứ chẳng phải dàng cho tiki. 1 năm qua mình không mua bên tiki nữa vì khâu gói hàng tệ quá là tệ, bây giờ quay lại trải nghiệm xem tiku đã đón nhận góp ý và thay đổi chưa, nhưng không hề nha. còn chẳng muốn đánh giá ---ĐÁNH GIÁ 1 SAO.\n",
      "\n"
     ]
    }
   ],
   "source": [
    "X = data_training.content.str.lower()\n",
    "y = data_training.rating\n",
    "#st = \"giao hàng chậm\"\n",
    "#st = \"giao hàng muộn\"\n",
    "st = \"ship\"\n",
    "Y = X.str.find(st)\n",
    "Y_index = Y.unique()[np.isfinite(Y.unique())][1:]\n",
    "Z = [Y[Y == valu].index for valu in Y_index]\n",
    "for i in Z:\n",
    "    for j in i:\n",
    "        if(y[j]<=4):\n",
    "            print(X[j],f\"---ĐÁNH GIÁ {y[j]} SAO.\")\n",
    "            print()"
   ]
  },
  {
   "cell_type": "code",
   "execution_count": null,
   "id": "1d2bd0a5",
   "metadata": {
    "executionInfo": {
     "elapsed": 4,
     "status": "ok",
     "timestamp": 1668777798442,
     "user": {
      "displayName": "Bùi Hữu Huấn",
      "userId": "07083814915331675675"
     },
     "user_tz": -420
    },
    "id": "1d2bd0a5"
   },
   "outputs": [],
   "source": []
  },
  {
   "cell_type": "code",
   "execution_count": null,
   "id": "ksDx6Z8svhQR",
   "metadata": {
    "executionInfo": {
     "elapsed": 5,
     "status": "ok",
     "timestamp": 1668777798443,
     "user": {
      "displayName": "Bùi Hữu Huấn",
      "userId": "07083814915331675675"
     },
     "user_tz": -420
    },
    "id": "ksDx6Z8svhQR"
   },
   "outputs": [],
   "source": []
  },
  {
   "cell_type": "markdown",
   "id": "jSnLUiEYvhgU",
   "metadata": {
    "id": "jSnLUiEYvhgU"
   },
   "source": [
    "![img](https://i.ibb.co/myGtppT/thank.jpg)"
   ]
  }
 ],
 "metadata": {
  "colab": {
   "provenance": [],
   "toc_visible": true
  },
  "kernelspec": {
   "display_name": "Python 3 (ipykernel)",
   "language": "python",
   "name": "python3"
  },
  "language_info": {
   "codemirror_mode": {
    "name": "ipython",
    "version": 3
   },
   "file_extension": ".py",
   "mimetype": "text/x-python",
   "name": "python",
   "nbconvert_exporter": "python",
   "pygments_lexer": "ipython3",
   "version": "3.9.13"
  },
  "vscode": {
   "interpreter": {
    "hash": "2c59db15f12db719edda241b69045266edff56da6f8aa9e87c023e9e7fd12a0e"
   }
  }
 },
 "nbformat": 4,
 "nbformat_minor": 5
}
